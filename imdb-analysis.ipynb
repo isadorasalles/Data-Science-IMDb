{
  "nbformat": 4,
  "nbformat_minor": 0,
  "metadata": {
    "colab": {
      "name": "trabalho-final.ipynb",
      "version": "0.3.2",
      "provenance": [],
      "collapsed_sections": []
    },
    "kernelspec": {
      "name": "python3",
      "display_name": "Python 3"
    }
  },
  "cells": [
    {
      "cell_type": "markdown",
      "metadata": {
        "id": "_JlV3ub09Acw",
        "colab_type": "text"
      },
      "source": [
        "# Desigualdade de Gêneros em Hollywood\n",
        "\n",
        "### Alunas:\n",
        "\n",
        "Isadora Alves de Salles - _2017014553_ <br>\n",
        "Laura Abreu Schulz Vieira- _2017015061_ <br>\n",
        "Luiza Chagas Brandão Campos - _2017015010_\n"
      ]
    },
    {
      "cell_type": "markdown",
      "metadata": {
        "id": "o43QDuOfHM0R",
        "colab_type": "text"
      },
      "source": [
        "# Introdução:\n",
        "\n",
        "Sabemos que desigualdade de gênero é uma pauta presente em várias áreas, assim com este trabalho buscamos evidenciar fatos já conhecidos sobre Hollywood correlacionados à gênero. A representatividade feminina em filmes é uma coisa que vem crescendo significantemente ao longo dos anos, mas antigamente era uma coisa que não existia. Uma das primeiras mulheres a fazerem parte do trio principal de um filme foi Carrie Fisher, interpretando a Princesa Leia. Portando, com esse trabalho nós tentaremos mostrar que a representatividade ainda é baixa, e que não segue a distribuição populacional, ou seja, vamos mostrar que o crescimento na representatividade ainda não chegou a igualdade. Assim como, provaremos que filmes dirigidos por mulheres tem uma representatividade feminina melhor do que filmes dirigidos por homens.\n",
        "\n",
        "Além disso, em alguns filmes observamos que o par romântico é formado por um homem bem mais velho que a mulher, o que faz com que haja um amadurecimento maior sobre as mulheres. Possuindo dados sobre a idade do ator de um filme, tentaremos prever a idade do par romântico dele.\n",
        "\n",
        "\n",
        "### Os dados que usaremos nesse trabalho se consistem em:\n",
        " - IMDb: dele extraimos as informações sobre ano do filme, cast principal, diretores, avaliação e gênero do filme.\n",
        " - TMDb: para conseguir o gênero dos atores e diretores precisamos buscar na API do TMDb, as tabelas de lá extraídas possuem um ID para as tabelas do IMDb. O merge das tabelas foi feito no outro arquivo .ipynb enviado no zip.\n",
        " - Hollywood Age Gap: com essa tabela teremos a informação sobre o gap entre a idade do homem e da mulher de um par romântico.\n",
        " \n",
        "### Como esses dados se correlacionam:\n",
        "\n",
        "Nós pretendemos evidenciar problemas correlacionados ao gênero existentes em Hollywood. Como não foi possível extrair todos os dados do TMDb, nós pegamos as informações apenas sobre os atores mais famosos, assim temos informações sobre os filmes que contam com pelo menos dois desses atores. Dessa forma, estamos trabalhando com dados que refletem a realidade sobre filmes mais famosos.\n",
        "\n",
        "### Perguntas:\n",
        "\n",
        "1. A representação feminina no cast principal dos filmes de Hollywood segue a distribuição populacional norte-americana?\n",
        "\n",
        "2. O gênero do diretor do filme tem influência na quantidade de homens e mulheres no cast principal?\n",
        "\n",
        "3. Podemos predizer qual a idade da mulher com base na idade de seu par romântico?\n",
        "\n",
        "\n",
        "# Metodologia: \n",
        " \n",
        " \n",
        " Para responder às nossas perguntas de pesquisa nós fizemos uso de dois testes de hipóteses, uma classificação e uma regressão. O passo a passo para cada um desses itens será explicado a seguir:"
      ]
    },
    {
      "cell_type": "markdown",
      "metadata": {
        "id": "g1m_e8h8bc-E",
        "colab_type": "text"
      },
      "source": [
        "## Imports necessários"
      ]
    },
    {
      "cell_type": "code",
      "metadata": {
        "id": "Eu5woEUz6b8b",
        "colab_type": "code",
        "colab": {}
      },
      "source": [
        "import pandas as pd\n",
        "import numpy as np\n",
        "import matplotlib.pyplot as plt\n",
        "import seaborn as sns\n",
        "from scipy import stats as ss\n",
        "import random\n",
        "\n",
        "import sklearn.preprocessing as preprocessing\n",
        "from sklearn.model_selection import train_test_split\n",
        "from sklearn.model_selection import KFold\n",
        "from sklearn.metrics import accuracy_score\n",
        "from sklearn.metrics import classification_report\n",
        "from sklearn import metrics\n",
        "from sklearn import ensemble\n",
        "\n",
        "import warnings\n",
        "warnings.filterwarnings(\"ignore\")\n"
      ],
      "execution_count": 0,
      "outputs": []
    },
    {
      "cell_type": "markdown",
      "metadata": {
        "id": "SymVCIAdF3Kl",
        "colab_type": "text"
      },
      "source": [
        "# Resumo dos Dados e Análise Exploratória \n",
        "\n",
        "\n",
        "Antes de podermos dizer algo sobre os dados precisamos visualizá-los. <br>\n",
        "Na tabela a seguir temos as informações que recolhermos sobre o TMDb"
      ]
    },
    {
      "cell_type": "markdown",
      "metadata": {
        "id": "Nz-jSs1YrxLP",
        "colab_type": "text"
      },
      "source": [
        "## TMDb"
      ]
    },
    {
      "cell_type": "code",
      "metadata": {
        "id": "dGhUxR6lENjz",
        "colab_type": "code",
        "colab": {}
      },
      "source": [
        "tmdb_infos = pd.read_csv('tmdb_infos.csv', sep=';', encoding='utf-8')\n"
      ],
      "execution_count": 0,
      "outputs": []
    },
    {
      "cell_type": "markdown",
      "metadata": {
        "id": "S1bYEDxpFHS_",
        "colab_type": "text"
      },
      "source": [
        "O gênero igual a 0 representa \"não sei\", sendo assim, foram excluídos da nossa análise."
      ]
    },
    {
      "cell_type": "code",
      "metadata": {
        "id": "3JcD6-2fFGKX",
        "colab_type": "code",
        "outputId": "24961006-84dc-41b6-8c04-c9dff1b5f704",
        "colab": {
          "base_uri": "https://localhost:8080/",
          "height": 204
        }
      },
      "source": [
        "tmdb_infos = tmdb_infos[tmdb_infos['gender'] != 0]\n",
        "tmdb_infos.reset_index(inplace=True, drop=True)\n",
        "tmdb_infos.head()"
      ],
      "execution_count": 0,
      "outputs": [
        {
          "output_type": "execute_result",
          "data": {
            "text/html": [
              "<div>\n",
              "<style scoped>\n",
              "    .dataframe tbody tr th:only-of-type {\n",
              "        vertical-align: middle;\n",
              "    }\n",
              "\n",
              "    .dataframe tbody tr th {\n",
              "        vertical-align: top;\n",
              "    }\n",
              "\n",
              "    .dataframe thead th {\n",
              "        text-align: right;\n",
              "    }\n",
              "</style>\n",
              "<table border=\"1\" class=\"dataframe\">\n",
              "  <thead>\n",
              "    <tr style=\"text-align: right;\">\n",
              "      <th></th>\n",
              "      <th>birthday</th>\n",
              "      <th>known_for_department</th>\n",
              "      <th>deathday</th>\n",
              "      <th>id</th>\n",
              "      <th>name</th>\n",
              "      <th>gender</th>\n",
              "      <th>imdb_id</th>\n",
              "    </tr>\n",
              "  </thead>\n",
              "  <tbody>\n",
              "    <tr>\n",
              "      <th>0</th>\n",
              "      <td>NaN</td>\n",
              "      <td>Acting</td>\n",
              "      <td>NaN</td>\n",
              "      <td>716.0</td>\n",
              "      <td>Jeannette Sousa</td>\n",
              "      <td>1</td>\n",
              "      <td>nm0815970</td>\n",
              "    </tr>\n",
              "    <tr>\n",
              "      <th>1</th>\n",
              "      <td>1964-09-02</td>\n",
              "      <td>Acting</td>\n",
              "      <td>NaN</td>\n",
              "      <td>38.0</td>\n",
              "      <td>Keanu Reeves</td>\n",
              "      <td>2</td>\n",
              "      <td>nm0000206</td>\n",
              "    </tr>\n",
              "    <tr>\n",
              "      <th>2</th>\n",
              "      <td>NaN</td>\n",
              "      <td>Acting</td>\n",
              "      <td>NaN</td>\n",
              "      <td>52234.0</td>\n",
              "      <td>Jocelyn Hudon</td>\n",
              "      <td>1</td>\n",
              "      <td>nm6749397</td>\n",
              "    </tr>\n",
              "    <tr>\n",
              "      <th>3</th>\n",
              "      <td>1989-10-01</td>\n",
              "      <td>Acting</td>\n",
              "      <td>NaN</td>\n",
              "      <td>7.0</td>\n",
              "      <td>Brie Larson</td>\n",
              "      <td>1</td>\n",
              "      <td>nm0488953</td>\n",
              "    </tr>\n",
              "    <tr>\n",
              "      <th>4</th>\n",
              "      <td>1979-07-24</td>\n",
              "      <td>Acting</td>\n",
              "      <td>NaN</td>\n",
              "      <td>82.0</td>\n",
              "      <td>Rose Byrne</td>\n",
              "      <td>1</td>\n",
              "      <td>nm0126284</td>\n",
              "    </tr>\n",
              "  </tbody>\n",
              "</table>\n",
              "</div>"
            ],
            "text/plain": [
              "     birthday known_for_department deathday  ...             name gender    imdb_id\n",
              "0         NaN               Acting      NaN  ...  Jeannette Sousa      1  nm0815970\n",
              "1  1964-09-02               Acting      NaN  ...     Keanu Reeves      2  nm0000206\n",
              "2         NaN               Acting      NaN  ...    Jocelyn Hudon      1  nm6749397\n",
              "3  1989-10-01               Acting      NaN  ...      Brie Larson      1  nm0488953\n",
              "4  1979-07-24               Acting      NaN  ...       Rose Byrne      1  nm0126284\n",
              "\n",
              "[5 rows x 7 columns]"
            ]
          },
          "metadata": {
            "tags": []
          },
          "execution_count": 46
        }
      ]
    },
    {
      "cell_type": "code",
      "metadata": {
        "id": "ufAEKjyiyrfC",
        "colab_type": "code",
        "outputId": "eb302553-3b36-4ab0-f226-bea8b23f49bb",
        "colab": {
          "base_uri": "https://localhost:8080/",
          "height": 68
        }
      },
      "source": [
        "print(\"Numero de linhas: {}\".format(tmdb_infos.shape[0]))\n",
        "print(\"Numero de colunas: {}\".format(tmdb_infos.shape[1]))\n",
        "print(\"Dados faltando: {}\".format(tmdb_infos.isnull().sum().sum()))"
      ],
      "execution_count": 0,
      "outputs": [
        {
          "output_type": "stream",
          "text": [
            "Numero de linhas: 83119\n",
            "Numero de colunas: 7\n",
            "Dados faltando: 123612\n"
          ],
          "name": "stdout"
        }
      ]
    },
    {
      "cell_type": "markdown",
      "metadata": {
        "id": "6lKugvTa3ftz",
        "colab_type": "text"
      },
      "source": [
        "Resumo sobre os dados faltantes na tabela do TMDb."
      ]
    },
    {
      "cell_type": "code",
      "metadata": {
        "id": "aGYBTo6YyyZs",
        "colab_type": "code",
        "outputId": "b2a2aaa2-c1e4-482f-e6d5-7d20538ceec7",
        "colab": {
          "base_uri": "https://localhost:8080/",
          "height": 266
        }
      },
      "source": [
        "tmdb_infos.isnull().sum().to_frame(\"Dados faltando\").join(   \n",
        "    (tmdb_infos.isnull().sum().to_frame(\"%\")*100/len(tmdb_infos)).round(2))"
      ],
      "execution_count": 0,
      "outputs": [
        {
          "output_type": "execute_result",
          "data": {
            "text/html": [
              "<div>\n",
              "<style scoped>\n",
              "    .dataframe tbody tr th:only-of-type {\n",
              "        vertical-align: middle;\n",
              "    }\n",
              "\n",
              "    .dataframe tbody tr th {\n",
              "        vertical-align: top;\n",
              "    }\n",
              "\n",
              "    .dataframe thead th {\n",
              "        text-align: right;\n",
              "    }\n",
              "</style>\n",
              "<table border=\"1\" class=\"dataframe\">\n",
              "  <thead>\n",
              "    <tr style=\"text-align: right;\">\n",
              "      <th></th>\n",
              "      <th>Dados faltando</th>\n",
              "      <th>%</th>\n",
              "    </tr>\n",
              "  </thead>\n",
              "  <tbody>\n",
              "    <tr>\n",
              "      <th>birthday</th>\n",
              "      <td>37860</td>\n",
              "      <td>45.55</td>\n",
              "    </tr>\n",
              "    <tr>\n",
              "      <th>known_for_department</th>\n",
              "      <td>10</td>\n",
              "      <td>0.01</td>\n",
              "    </tr>\n",
              "    <tr>\n",
              "      <th>deathday</th>\n",
              "      <td>72460</td>\n",
              "      <td>87.18</td>\n",
              "    </tr>\n",
              "    <tr>\n",
              "      <th>id</th>\n",
              "      <td>54</td>\n",
              "      <td>0.06</td>\n",
              "    </tr>\n",
              "    <tr>\n",
              "      <th>name</th>\n",
              "      <td>0</td>\n",
              "      <td>0.00</td>\n",
              "    </tr>\n",
              "    <tr>\n",
              "      <th>gender</th>\n",
              "      <td>0</td>\n",
              "      <td>0.00</td>\n",
              "    </tr>\n",
              "    <tr>\n",
              "      <th>imdb_id</th>\n",
              "      <td>13228</td>\n",
              "      <td>15.91</td>\n",
              "    </tr>\n",
              "  </tbody>\n",
              "</table>\n",
              "</div>"
            ],
            "text/plain": [
              "                      Dados faltando      %\n",
              "birthday                       37860  45.55\n",
              "known_for_department              10   0.01\n",
              "deathday                       72460  87.18\n",
              "id                                54   0.06\n",
              "name                               0   0.00\n",
              "gender                             0   0.00\n",
              "imdb_id                        13228  15.91"
            ]
          },
          "metadata": {
            "tags": []
          },
          "execution_count": 48
        }
      ]
    },
    {
      "cell_type": "markdown",
      "metadata": {
        "id": "Ywi-plgK633j",
        "colab_type": "text"
      },
      "source": [
        "Excluímos as colunas que possuem muitos dados faltantes e a coluna id que representa o id do TMDb e não serão necessárias."
      ]
    },
    {
      "cell_type": "code",
      "metadata": {
        "id": "xYA6trWKzVdz",
        "colab_type": "code",
        "colab": {}
      },
      "source": [
        "to_drop = [\"birthday\", \"deathday\", \"id\"]\n",
        "\n",
        "tmdb_infos = tmdb_infos.drop(to_drop, axis=1)"
      ],
      "execution_count": 0,
      "outputs": []
    },
    {
      "cell_type": "markdown",
      "metadata": {
        "id": "ene1zMP87Hs_",
        "colab_type": "text"
      },
      "source": [
        "Excluímos o restante das linhas que possuem dados faltantes."
      ]
    },
    {
      "cell_type": "code",
      "metadata": {
        "id": "inumwHHizPVN",
        "colab_type": "code",
        "outputId": "26e7411d-12ec-41b5-ba21-26e73dbd08a1",
        "colab": {
          "base_uri": "https://localhost:8080/",
          "height": 51
        }
      },
      "source": [
        "n_before = tmdb_infos.shape[0]\n",
        "tmdb_infos = tmdb_infos.dropna(axis=0, how=\"any\")\n",
        "print(\"\\nLinhas removidas: {}\".format(n_before - tmdb_infos.shape[0]))\n",
        "\n",
        "# Certifica que nao ha mais dados faltando\n",
        "assert tmdb_infos.isnull().sum().sum() == 0"
      ],
      "execution_count": 0,
      "outputs": [
        {
          "output_type": "stream",
          "text": [
            "\n",
            "Linhas removidas: 13234\n"
          ],
          "name": "stdout"
        }
      ]
    },
    {
      "cell_type": "code",
      "metadata": {
        "id": "TvwIwzZsFc54",
        "colab_type": "code",
        "outputId": "16989f31-03f8-4d32-c5cf-2e0434e09e83",
        "colab": {
          "base_uri": "https://localhost:8080/",
          "height": 51
        }
      },
      "source": [
        "female_sum = tmdb_infos[tmdb_infos['gender'] == 1]['gender'].count()\n",
        "male_sum = tmdb_infos[tmdb_infos['gender'] == 2]['gender'].count()\n",
        "print('Quantidade de mulheres na tabela: {}'.format(female_sum))\n",
        "print('Quantidade de homens na tabela: {}'.format(male_sum))"
      ],
      "execution_count": 0,
      "outputs": [
        {
          "output_type": "stream",
          "text": [
            "Quantidade de mulheres na tabela: 27720\n",
            "Quantidade de homens na tabela: 42165\n"
          ],
          "name": "stdout"
        }
      ]
    },
    {
      "cell_type": "markdown",
      "metadata": {
        "id": "jlHC0DTcxYd_",
        "colab_type": "text"
      },
      "source": [
        "### Quantidade de pessoas por gênero para cada área"
      ]
    },
    {
      "cell_type": "code",
      "metadata": {
        "id": "K1BS4GVW0Wif",
        "colab_type": "code",
        "outputId": "0bc0a4e2-7fdd-4f95-b723-1655be6d3532",
        "colab": {
          "base_uri": "https://localhost:8080/",
          "height": 917
        }
      },
      "source": [
        "tmdb_group = tmdb_infos[['known_for_department', 'gender', 'imdb_id']].groupby(['known_for_department', 'gender']).count()\n",
        "tmdb_group"
      ],
      "execution_count": 0,
      "outputs": [
        {
          "output_type": "execute_result",
          "data": {
            "text/html": [
              "<div>\n",
              "<style scoped>\n",
              "    .dataframe tbody tr th:only-of-type {\n",
              "        vertical-align: middle;\n",
              "    }\n",
              "\n",
              "    .dataframe tbody tr th {\n",
              "        vertical-align: top;\n",
              "    }\n",
              "\n",
              "    .dataframe thead th {\n",
              "        text-align: right;\n",
              "    }\n",
              "</style>\n",
              "<table border=\"1\" class=\"dataframe\">\n",
              "  <thead>\n",
              "    <tr style=\"text-align: right;\">\n",
              "      <th></th>\n",
              "      <th></th>\n",
              "      <th>imdb_id</th>\n",
              "    </tr>\n",
              "    <tr>\n",
              "      <th>known_for_department</th>\n",
              "      <th>gender</th>\n",
              "      <th></th>\n",
              "    </tr>\n",
              "  </thead>\n",
              "  <tbody>\n",
              "    <tr>\n",
              "      <th rowspan=\"2\" valign=\"top\">Acting</th>\n",
              "      <th>1</th>\n",
              "      <td>22729</td>\n",
              "    </tr>\n",
              "    <tr>\n",
              "      <th>2</th>\n",
              "      <td>27380</td>\n",
              "    </tr>\n",
              "    <tr>\n",
              "      <th>Actors</th>\n",
              "      <th>2</th>\n",
              "      <td>1</td>\n",
              "    </tr>\n",
              "    <tr>\n",
              "      <th rowspan=\"2\" valign=\"top\">Art</th>\n",
              "      <th>1</th>\n",
              "      <td>409</td>\n",
              "    </tr>\n",
              "    <tr>\n",
              "      <th>2</th>\n",
              "      <td>715</td>\n",
              "    </tr>\n",
              "    <tr>\n",
              "      <th rowspan=\"2\" valign=\"top\">Camera</th>\n",
              "      <th>1</th>\n",
              "      <td>129</td>\n",
              "    </tr>\n",
              "    <tr>\n",
              "      <th>2</th>\n",
              "      <td>1223</td>\n",
              "    </tr>\n",
              "    <tr>\n",
              "      <th rowspan=\"2\" valign=\"top\">Costume &amp; Make-Up</th>\n",
              "      <th>1</th>\n",
              "      <td>564</td>\n",
              "    </tr>\n",
              "    <tr>\n",
              "      <th>2</th>\n",
              "      <td>198</td>\n",
              "    </tr>\n",
              "    <tr>\n",
              "      <th rowspan=\"2\" valign=\"top\">Creator</th>\n",
              "      <th>1</th>\n",
              "      <td>35</td>\n",
              "    </tr>\n",
              "    <tr>\n",
              "      <th>2</th>\n",
              "      <td>91</td>\n",
              "    </tr>\n",
              "    <tr>\n",
              "      <th rowspan=\"2\" valign=\"top\">Crew</th>\n",
              "      <th>1</th>\n",
              "      <td>273</td>\n",
              "    </tr>\n",
              "    <tr>\n",
              "      <th>2</th>\n",
              "      <td>998</td>\n",
              "    </tr>\n",
              "    <tr>\n",
              "      <th rowspan=\"2\" valign=\"top\">Directing</th>\n",
              "      <th>1</th>\n",
              "      <td>887</td>\n",
              "    </tr>\n",
              "    <tr>\n",
              "      <th>2</th>\n",
              "      <td>3761</td>\n",
              "    </tr>\n",
              "    <tr>\n",
              "      <th rowspan=\"2\" valign=\"top\">Editing</th>\n",
              "      <th>1</th>\n",
              "      <td>183</td>\n",
              "    </tr>\n",
              "    <tr>\n",
              "      <th>2</th>\n",
              "      <td>569</td>\n",
              "    </tr>\n",
              "    <tr>\n",
              "      <th rowspan=\"2\" valign=\"top\">Lighting</th>\n",
              "      <th>1</th>\n",
              "      <td>10</td>\n",
              "    </tr>\n",
              "    <tr>\n",
              "      <th>2</th>\n",
              "      <td>289</td>\n",
              "    </tr>\n",
              "    <tr>\n",
              "      <th rowspan=\"2\" valign=\"top\">Production</th>\n",
              "      <th>1</th>\n",
              "      <td>1337</td>\n",
              "    </tr>\n",
              "    <tr>\n",
              "      <th>2</th>\n",
              "      <td>1944</td>\n",
              "    </tr>\n",
              "    <tr>\n",
              "      <th rowspan=\"2\" valign=\"top\">Sound</th>\n",
              "      <th>1</th>\n",
              "      <td>205</td>\n",
              "    </tr>\n",
              "    <tr>\n",
              "      <th>2</th>\n",
              "      <td>1350</td>\n",
              "    </tr>\n",
              "    <tr>\n",
              "      <th rowspan=\"2\" valign=\"top\">Visual Effects</th>\n",
              "      <th>1</th>\n",
              "      <td>73</td>\n",
              "    </tr>\n",
              "    <tr>\n",
              "      <th>2</th>\n",
              "      <td>410</td>\n",
              "    </tr>\n",
              "    <tr>\n",
              "      <th rowspan=\"2\" valign=\"top\">Writing</th>\n",
              "      <th>1</th>\n",
              "      <td>886</td>\n",
              "    </tr>\n",
              "    <tr>\n",
              "      <th>2</th>\n",
              "      <td>3236</td>\n",
              "    </tr>\n",
              "  </tbody>\n",
              "</table>\n",
              "</div>"
            ],
            "text/plain": [
              "                             imdb_id\n",
              "known_for_department gender         \n",
              "Acting               1         22729\n",
              "                     2         27380\n",
              "Actors               2             1\n",
              "Art                  1           409\n",
              "                     2           715\n",
              "Camera               1           129\n",
              "                     2          1223\n",
              "Costume & Make-Up    1           564\n",
              "                     2           198\n",
              "Creator              1            35\n",
              "                     2            91\n",
              "Crew                 1           273\n",
              "                     2           998\n",
              "Directing            1           887\n",
              "                     2          3761\n",
              "Editing              1           183\n",
              "                     2           569\n",
              "Lighting             1            10\n",
              "                     2           289\n",
              "Production           1          1337\n",
              "                     2          1944\n",
              "Sound                1           205\n",
              "                     2          1350\n",
              "Visual Effects       1            73\n",
              "                     2           410\n",
              "Writing              1           886\n",
              "                     2          3236"
            ]
          },
          "metadata": {
            "tags": []
          },
          "execution_count": 52
        }
      ]
    },
    {
      "cell_type": "markdown",
      "metadata": {
        "id": "nKdZj4Uis2BL",
        "colab_type": "text"
      },
      "source": [
        "## IMDb"
      ]
    },
    {
      "cell_type": "markdown",
      "metadata": {
        "id": "0U77ZNoTF9fX",
        "colab_type": "text"
      },
      "source": [
        "A tabela a seguir possui as informações do IMDb mesclada com informações do TMDb sobre o gênero dos atores e diretores. A construção desse dataset foi feita no outro notebook que foi enviado no zip.\n",
        "\n",
        "Com essas informações temos a pretensão de classificar o gênero do diretor, possuindo o restante das colunas como atributo. Antes da classificação iremos mostrar porque essa análise é válida com um teste de hipóteses."
      ]
    },
    {
      "cell_type": "code",
      "metadata": {
        "id": "CdCBQnVfFv3f",
        "colab_type": "code",
        "outputId": "bec128b1-1ee7-4177-975e-3b5b42e6a161",
        "colab": {
          "base_uri": "https://localhost:8080/",
          "height": 204
        }
      },
      "source": [
        "df_merged = pd.read_csv('merged_final.csv', sep=';', encoding='utf-8')\n",
        "df_merged.head()"
      ],
      "execution_count": 0,
      "outputs": [
        {
          "output_type": "execute_result",
          "data": {
            "text/html": [
              "<div>\n",
              "<style scoped>\n",
              "    .dataframe tbody tr th:only-of-type {\n",
              "        vertical-align: middle;\n",
              "    }\n",
              "\n",
              "    .dataframe tbody tr th {\n",
              "        vertical-align: top;\n",
              "    }\n",
              "\n",
              "    .dataframe thead th {\n",
              "        text-align: right;\n",
              "    }\n",
              "</style>\n",
              "<table border=\"1\" class=\"dataframe\">\n",
              "  <thead>\n",
              "    <tr style=\"text-align: right;\">\n",
              "      <th></th>\n",
              "      <th>tconst</th>\n",
              "      <th>startYear</th>\n",
              "      <th>gender_actor1</th>\n",
              "      <th>gender_actor2</th>\n",
              "      <th>gender_actor3</th>\n",
              "      <th>gender_actor4</th>\n",
              "      <th>gender_director1</th>\n",
              "      <th>gender_director2</th>\n",
              "      <th>averageRating</th>\n",
              "      <th>numVotes</th>\n",
              "      <th>genres_film</th>\n",
              "    </tr>\n",
              "  </thead>\n",
              "  <tbody>\n",
              "    <tr>\n",
              "      <th>0</th>\n",
              "      <td>tt0000644</td>\n",
              "      <td>1908</td>\n",
              "      <td>2</td>\n",
              "      <td>2</td>\n",
              "      <td>1.0</td>\n",
              "      <td>1.0</td>\n",
              "      <td>2</td>\n",
              "      <td>NaN</td>\n",
              "      <td>5.4</td>\n",
              "      <td>16.0</td>\n",
              "      <td>Drama,Short</td>\n",
              "    </tr>\n",
              "    <tr>\n",
              "      <th>1</th>\n",
              "      <td>tt0000645</td>\n",
              "      <td>1908</td>\n",
              "      <td>2</td>\n",
              "      <td>1</td>\n",
              "      <td>1.0</td>\n",
              "      <td>NaN</td>\n",
              "      <td>2</td>\n",
              "      <td>NaN</td>\n",
              "      <td>5.4</td>\n",
              "      <td>80.0</td>\n",
              "      <td>Crime,Short</td>\n",
              "    </tr>\n",
              "    <tr>\n",
              "      <th>2</th>\n",
              "      <td>tt0000663</td>\n",
              "      <td>1908</td>\n",
              "      <td>2</td>\n",
              "      <td>2</td>\n",
              "      <td>1.0</td>\n",
              "      <td>NaN</td>\n",
              "      <td>2</td>\n",
              "      <td>NaN</td>\n",
              "      <td>5.6</td>\n",
              "      <td>12.0</td>\n",
              "      <td>Comedy,Short</td>\n",
              "    </tr>\n",
              "    <tr>\n",
              "      <th>3</th>\n",
              "      <td>tt0000665</td>\n",
              "      <td>1908</td>\n",
              "      <td>2</td>\n",
              "      <td>2</td>\n",
              "      <td>1.0</td>\n",
              "      <td>NaN</td>\n",
              "      <td>2</td>\n",
              "      <td>NaN</td>\n",
              "      <td>5.8</td>\n",
              "      <td>12.0</td>\n",
              "      <td>Drama,Short</td>\n",
              "    </tr>\n",
              "    <tr>\n",
              "      <th>4</th>\n",
              "      <td>tt0000672</td>\n",
              "      <td>1908</td>\n",
              "      <td>2</td>\n",
              "      <td>1</td>\n",
              "      <td>NaN</td>\n",
              "      <td>NaN</td>\n",
              "      <td>2</td>\n",
              "      <td>NaN</td>\n",
              "      <td>6.3</td>\n",
              "      <td>10.0</td>\n",
              "      <td>Drama,Short</td>\n",
              "    </tr>\n",
              "  </tbody>\n",
              "</table>\n",
              "</div>"
            ],
            "text/plain": [
              "      tconst startYear  gender_actor1  ...  averageRating  numVotes   genres_film\n",
              "0  tt0000644      1908              2  ...            5.4      16.0   Drama,Short\n",
              "1  tt0000645      1908              2  ...            5.4      80.0   Crime,Short\n",
              "2  tt0000663      1908              2  ...            5.6      12.0  Comedy,Short\n",
              "3  tt0000665      1908              2  ...            5.8      12.0   Drama,Short\n",
              "4  tt0000672      1908              2  ...            6.3      10.0   Drama,Short\n",
              "\n",
              "[5 rows x 11 columns]"
            ]
          },
          "metadata": {
            "tags": []
          },
          "execution_count": 53
        }
      ]
    },
    {
      "cell_type": "code",
      "metadata": {
        "id": "anuzSIMKOKcN",
        "colab_type": "code",
        "outputId": "866137a8-9349-4c87-c0ca-aca0d7b43dfa",
        "colab": {
          "base_uri": "https://localhost:8080/",
          "height": 68
        }
      },
      "source": [
        "print(\"Numero de linhas: {}\".format(df_merged.shape[0]))\n",
        "print(\"Numero de colunas: {}\".format(df_merged.shape[1]))\n",
        "print(\"Dados faltando: {}\".format(df_merged.isnull().sum().sum()))"
      ],
      "execution_count": 0,
      "outputs": [
        {
          "output_type": "stream",
          "text": [
            "Numero de linhas: 25814\n",
            "Numero de colunas: 11\n",
            "Dados faltando: 55487\n"
          ],
          "name": "stdout"
        }
      ]
    },
    {
      "cell_type": "markdown",
      "metadata": {
        "id": "tiGb0A7iDFbV",
        "colab_type": "text"
      },
      "source": [
        "Primeiro temos que tratar os dados faltantes da tabela. Como poucos filmes tem dois diretores podemos excluir a coluna \"gender_director2\" da nossa análise. Não excluíremos a coluna \"gender_actor4\" pois ela ainda será útil em análises futuras."
      ]
    },
    {
      "cell_type": "code",
      "metadata": {
        "id": "hroPO1PiC4D3",
        "colab_type": "code",
        "outputId": "017ac58a-b28c-4ed7-c48b-39e9c393c343",
        "colab": {
          "base_uri": "https://localhost:8080/",
          "height": 390
        }
      },
      "source": [
        "df_merged.isnull().sum().to_frame(\"Dados faltando\").join(   \n",
        "    (df_merged.isnull().sum().to_frame(\"%\")*100/len(df_merged)).round(2))"
      ],
      "execution_count": 0,
      "outputs": [
        {
          "output_type": "execute_result",
          "data": {
            "text/html": [
              "<div>\n",
              "<style scoped>\n",
              "    .dataframe tbody tr th:only-of-type {\n",
              "        vertical-align: middle;\n",
              "    }\n",
              "\n",
              "    .dataframe tbody tr th {\n",
              "        vertical-align: top;\n",
              "    }\n",
              "\n",
              "    .dataframe thead th {\n",
              "        text-align: right;\n",
              "    }\n",
              "</style>\n",
              "<table border=\"1\" class=\"dataframe\">\n",
              "  <thead>\n",
              "    <tr style=\"text-align: right;\">\n",
              "      <th></th>\n",
              "      <th>Dados faltando</th>\n",
              "      <th>%</th>\n",
              "    </tr>\n",
              "  </thead>\n",
              "  <tbody>\n",
              "    <tr>\n",
              "      <th>tconst</th>\n",
              "      <td>0</td>\n",
              "      <td>0.00</td>\n",
              "    </tr>\n",
              "    <tr>\n",
              "      <th>startYear</th>\n",
              "      <td>0</td>\n",
              "      <td>0.00</td>\n",
              "    </tr>\n",
              "    <tr>\n",
              "      <th>gender_actor1</th>\n",
              "      <td>0</td>\n",
              "      <td>0.00</td>\n",
              "    </tr>\n",
              "    <tr>\n",
              "      <th>gender_actor2</th>\n",
              "      <td>0</td>\n",
              "      <td>0.00</td>\n",
              "    </tr>\n",
              "    <tr>\n",
              "      <th>gender_actor3</th>\n",
              "      <td>7700</td>\n",
              "      <td>29.83</td>\n",
              "    </tr>\n",
              "    <tr>\n",
              "      <th>gender_actor4</th>\n",
              "      <td>16741</td>\n",
              "      <td>64.85</td>\n",
              "    </tr>\n",
              "    <tr>\n",
              "      <th>gender_director1</th>\n",
              "      <td>0</td>\n",
              "      <td>0.00</td>\n",
              "    </tr>\n",
              "    <tr>\n",
              "      <th>gender_director2</th>\n",
              "      <td>25252</td>\n",
              "      <td>97.82</td>\n",
              "    </tr>\n",
              "    <tr>\n",
              "      <th>averageRating</th>\n",
              "      <td>2897</td>\n",
              "      <td>11.22</td>\n",
              "    </tr>\n",
              "    <tr>\n",
              "      <th>numVotes</th>\n",
              "      <td>2897</td>\n",
              "      <td>11.22</td>\n",
              "    </tr>\n",
              "    <tr>\n",
              "      <th>genres_film</th>\n",
              "      <td>0</td>\n",
              "      <td>0.00</td>\n",
              "    </tr>\n",
              "  </tbody>\n",
              "</table>\n",
              "</div>"
            ],
            "text/plain": [
              "                  Dados faltando      %\n",
              "tconst                         0   0.00\n",
              "startYear                      0   0.00\n",
              "gender_actor1                  0   0.00\n",
              "gender_actor2                  0   0.00\n",
              "gender_actor3               7700  29.83\n",
              "gender_actor4              16741  64.85\n",
              "gender_director1               0   0.00\n",
              "gender_director2           25252  97.82\n",
              "averageRating               2897  11.22\n",
              "numVotes                    2897  11.22\n",
              "genres_film                    0   0.00"
            ]
          },
          "metadata": {
            "tags": []
          },
          "execution_count": 55
        }
      ]
    },
    {
      "cell_type": "markdown",
      "metadata": {
        "id": "QSlc1n6RPTtZ",
        "colab_type": "text"
      },
      "source": [
        "Excluímos também as colunas \"tconst\" e \"startYear\" que não serão usadas na nossa análise. Não precisamos remover as linhas restantes que possuem atributo nulo agora, pois os nulos restantes representam filmes que não possuem o ator 3 e 4 e/ou não foram avaliados no IMDb."
      ]
    },
    {
      "cell_type": "code",
      "metadata": {
        "id": "gYi36QuyOsI7",
        "colab_type": "code",
        "colab": {}
      },
      "source": [
        "to_drop = [\"gender_director2\", \"tconst\",\"startYear\"]\n",
        "\n",
        "df_merged = df_merged.drop(to_drop, axis=1)"
      ],
      "execution_count": 0,
      "outputs": []
    },
    {
      "cell_type": "markdown",
      "metadata": {
        "id": "l0NKi58MJ45s",
        "colab_type": "text"
      },
      "source": [
        "Abaixo temos dataset apenas com os filmes que foram avaliados e sua respectiva avaliação:"
      ]
    },
    {
      "cell_type": "code",
      "metadata": {
        "id": "1T5z1gGwJr82",
        "colab_type": "code",
        "colab": {}
      },
      "source": [
        "t_ratings = pd.read_csv('new_t_ratings.csv', sep=';', encoding='utf-8') \n"
      ],
      "execution_count": 0,
      "outputs": []
    },
    {
      "cell_type": "code",
      "metadata": {
        "id": "1xWSiesTOEEt",
        "colab_type": "code",
        "outputId": "86c931d2-2ffe-4467-a79f-2ea2e635ee10",
        "colab": {
          "base_uri": "https://localhost:8080/",
          "height": 68
        }
      },
      "source": [
        "print(\"Numero de linhas: {}\".format(t_ratings.shape[0]))\n",
        "print(\"Numero de colunas: {}\".format(t_ratings.shape[1]))\n",
        "print(\"Dados faltando: {}\".format(t_ratings.isnull().sum().sum()))"
      ],
      "execution_count": 0,
      "outputs": [
        {
          "output_type": "stream",
          "text": [
            "Numero de linhas: 22917\n",
            "Numero de colunas: 3\n",
            "Dados faltando: 0\n"
          ],
          "name": "stdout"
        }
      ]
    },
    {
      "cell_type": "code",
      "metadata": {
        "id": "lViChDEnJ0iI",
        "colab_type": "code",
        "outputId": "89c2baec-3359-4ac9-f6b0-8345b0fdc427",
        "colab": {
          "base_uri": "https://localhost:8080/",
          "height": 34
        }
      },
      "source": [
        "meanNumVotes = t_ratings['numVotes'].mean()\n",
        "print(\"Média dos números de votos para todos os filmes: {}\".format(meanNumVotes))"
      ],
      "execution_count": 0,
      "outputs": [
        {
          "output_type": "stream",
          "text": [
            "Média dos números de votos para todos os filmes: 20003.013003447224\n"
          ],
          "name": "stdout"
        }
      ]
    },
    {
      "cell_type": "markdown",
      "metadata": {
        "id": "z2M7L1l4sBhl",
        "colab_type": "text"
      },
      "source": [
        "Para uma melhor avaliação da média de avaliações dos filmes vamos fazer um bootstrap dos dados e mostrar o intervalo de confiança dos dados."
      ]
    },
    {
      "cell_type": "code",
      "metadata": {
        "id": "TPnQb4jmsCe9",
        "colab_type": "code",
        "outputId": "704817e2-c14c-4f1e-af9c-0c0cf2268821",
        "colab": {
          "base_uri": "https://localhost:8080/",
          "height": 283
        }
      },
      "source": [
        "medias = []\n",
        "for _ in range(10000):\n",
        "  sample = t_ratings['averageRating'].sample(n=10000)\n",
        "  medias.append(sample.mean())\n",
        "\n",
        "plt.hist(medias, density=True, bins = 50, edgecolor='k')\n",
        "plt.xlabel('Médias ratings dos filmes')\n",
        "plt.ylabel('Recorrência dos valores')\n",
        "plt.show()"
      ],
      "execution_count": 0,
      "outputs": [
        {
          "output_type": "display_data",
          "data": {
            "image/png": "[encoded data removed]",
            "text/plain": [
              "<Figure size 432x288 with 1 Axes>"
            ]
          },
          "metadata": {
            "tags": []
          }
        }
      ]
    },
    {
      "cell_type": "code",
      "metadata": {
        "id": "g6HLzN5wtfJB",
        "colab_type": "code",
        "outputId": "ad6bf16e-24e8-4504-9b43-58222c648eb6",
        "colab": {
          "base_uri": "https://localhost:8080/",
          "height": 51
        }
      },
      "source": [
        "print(\"[{}, {}]\".format(np.percentile(medias, 2.5), np.percentile(medias, 97.5)))"
      ],
      "execution_count": 0,
      "outputs": [
        {
          "output_type": "stream",
          "text": [
            "[6.215009249999974, 6.246820249999986]\n",
            "\n"
          ],
          "name": "stdout"
        }
      ]
    },
    {
      "cell_type": "markdown",
      "metadata": {
        "id": "mqnMKVTTtuz_",
        "colab_type": "text"
      },
      "source": [
        "Portanto, as médias de rating dos filmes estão em um intervalo de confiança (95%) entre 6.22 e 6.25 (aproximadamente).\n",
        "Agora, mostraremos a distribuição dos ratings dos filmes nos dados reais que possuimos."
      ]
    },
    {
      "cell_type": "markdown",
      "metadata": {
        "id": "aD4ztAKEPJbS",
        "colab_type": "text"
      },
      "source": [
        "### Distribuição das avaliações"
      ]
    },
    {
      "cell_type": "code",
      "metadata": {
        "id": "LfRbXFjMJ3oh",
        "colab_type": "code",
        "outputId": "6986be5d-4e9f-4004-88bc-d96be405664b",
        "colab": {
          "base_uri": "https://localhost:8080/",
          "height": 283
        }
      },
      "source": [
        "plt.hist(t_ratings['averageRating'], bins=20, density=True, edgecolor='k')\n",
        "plt.xlabel('Rating')\n",
        "plt.ylabel('P(X = x)')\n",
        "plt.axvline(t_ratings['averageRating'].mean(), color='r', linestyle='dashed', linewidth=1)\n",
        "_, max_ = plt.ylim()\n",
        "plt.text(t_ratings['averageRating'].mean() + t_ratings['averageRating'].mean()/10, \n",
        "         max_ - max_/20, \n",
        "         'Mean: {:.2f}'.format(t_ratings['averageRating'].mean()))\n",
        "plt.show()"
      ],
      "execution_count": 0,
      "outputs": [
        {
          "output_type": "display_data",
          "data": {
            "image/png": "[encoded data removed]",
            "text/plain": [
              "<Figure size 432x288 with 1 Axes>"
            ]
          },
          "metadata": {
            "tags": []
          }
        }
      ]
    },
    {
      "cell_type": "markdown",
      "metadata": {
        "id": "4hp3eKOIPhpd",
        "colab_type": "text"
      },
      "source": [
        "## Age Gap\n",
        "Temos também informações sobre pares amorosos de alguns filmes e a idade de cada um no par. A partir dessas informações buscamos fazer uma regressão para tentar prever a idade da mulher dado a idade do homem. "
      ]
    },
    {
      "cell_type": "code",
      "metadata": {
        "id": "_4lN1wJ1_e8A",
        "colab_type": "code",
        "colab": {}
      },
      "source": [
        "age_gap = pd.read_csv('hollywood_age_gap.csv', sep=',', encoding='utf-8')"
      ],
      "execution_count": 0,
      "outputs": []
    },
    {
      "cell_type": "markdown",
      "metadata": {
        "id": "UaFXlFD1_ljK",
        "colab_type": "text"
      },
      "source": [
        "Excluimos os casais homoafetivos, pois a nossa pretensão é expor a diferença de idade entre homens e mulheres como pares amorosos nos filmes, assim provando que, na concepção hollywoodiana, é muito mais aceitável a presença de um homem mais velho do que de uma mulher mais velha nas telas. "
      ]
    },
    {
      "cell_type": "code",
      "metadata": {
        "id": "o2KRn6si_fQ8",
        "colab_type": "code",
        "outputId": "b1b109e5-ae18-44dc-bbe0-b2c82ac1959a",
        "colab": {
          "base_uri": "https://localhost:8080/",
          "height": 68
        }
      },
      "source": [
        "for i in range (len(age_gap)):\n",
        "  if age_gap['Actor 1 Gender'].loc[i] == age_gap['Actor 2 Gender'].loc[i]:\n",
        "    age_gap = age_gap.drop([i])\n",
        "\n",
        "age_gap.reset_index(drop=True)\n",
        "\n",
        "print(\"Numero de linhas: {}\".format(age_gap.shape[0]))\n",
        "print(\"Numero de colunas: {}\".format(age_gap.shape[1]))\n",
        "print(\"Dados faltando: {}\".format(age_gap.isnull().sum().sum()))"
      ],
      "execution_count": 0,
      "outputs": [
        {
          "output_type": "stream",
          "text": [
            "Numero de linhas: 1022\n",
            "Numero de colunas: 12\n",
            "Dados faltando: 0\n"
          ],
          "name": "stdout"
        }
      ]
    },
    {
      "cell_type": "code",
      "metadata": {
        "id": "0kVTSjCCQKkW",
        "colab_type": "code",
        "outputId": "5d1f9860-8437-40fd-dd8e-cae3bf9530fb",
        "colab": {
          "base_uri": "https://localhost:8080/",
          "height": 204
        }
      },
      "source": [
        "age_gap.head()"
      ],
      "execution_count": 0,
      "outputs": [
        {
          "output_type": "execute_result",
          "data": {
            "text/html": [
              "<div>\n",
              "<style scoped>\n",
              "    .dataframe tbody tr th:only-of-type {\n",
              "        vertical-align: middle;\n",
              "    }\n",
              "\n",
              "    .dataframe tbody tr th {\n",
              "        vertical-align: top;\n",
              "    }\n",
              "\n",
              "    .dataframe thead th {\n",
              "        text-align: right;\n",
              "    }\n",
              "</style>\n",
              "<table border=\"1\" class=\"dataframe\">\n",
              "  <thead>\n",
              "    <tr style=\"text-align: right;\">\n",
              "      <th></th>\n",
              "      <th>Movie Name</th>\n",
              "      <th>Release Year</th>\n",
              "      <th>Director</th>\n",
              "      <th>Age Difference</th>\n",
              "      <th>Actor 1 Name</th>\n",
              "      <th>Actor 1 Gender</th>\n",
              "      <th>Actor 1 Birthdate</th>\n",
              "      <th>Actor 1 Age</th>\n",
              "      <th>Actor 2 Name</th>\n",
              "      <th>Actor 2 Gender</th>\n",
              "      <th>Actor 2 Birthdate</th>\n",
              "      <th>Actor 2 Age</th>\n",
              "    </tr>\n",
              "  </thead>\n",
              "  <tbody>\n",
              "    <tr>\n",
              "      <th>0</th>\n",
              "      <td>Harold and Maude</td>\n",
              "      <td>1971</td>\n",
              "      <td>Hal Ashby</td>\n",
              "      <td>52</td>\n",
              "      <td>Bud Cort</td>\n",
              "      <td>man</td>\n",
              "      <td>1948-03-29</td>\n",
              "      <td>23</td>\n",
              "      <td>Ruth Gordon</td>\n",
              "      <td>woman</td>\n",
              "      <td>1896-10-30</td>\n",
              "      <td>75</td>\n",
              "    </tr>\n",
              "    <tr>\n",
              "      <th>1</th>\n",
              "      <td>Venus</td>\n",
              "      <td>2006</td>\n",
              "      <td>Michael Curtiz</td>\n",
              "      <td>50</td>\n",
              "      <td>Peter O'Toole</td>\n",
              "      <td>man</td>\n",
              "      <td>1932-08-02</td>\n",
              "      <td>74</td>\n",
              "      <td>Jodie Whittaker</td>\n",
              "      <td>woman</td>\n",
              "      <td>1982-06-03</td>\n",
              "      <td>24</td>\n",
              "    </tr>\n",
              "    <tr>\n",
              "      <th>2</th>\n",
              "      <td>The Quiet American</td>\n",
              "      <td>2002</td>\n",
              "      <td>Phillip Noyce</td>\n",
              "      <td>49</td>\n",
              "      <td>Michael Caine</td>\n",
              "      <td>man</td>\n",
              "      <td>1933-03-14</td>\n",
              "      <td>69</td>\n",
              "      <td>Do Thi Hai Yen</td>\n",
              "      <td>woman</td>\n",
              "      <td>1982-10-01</td>\n",
              "      <td>20</td>\n",
              "    </tr>\n",
              "    <tr>\n",
              "      <th>3</th>\n",
              "      <td>The Big Lebowski</td>\n",
              "      <td>1998</td>\n",
              "      <td>Joel Coen</td>\n",
              "      <td>45</td>\n",
              "      <td>David Huddleston</td>\n",
              "      <td>man</td>\n",
              "      <td>1930-09-17</td>\n",
              "      <td>68</td>\n",
              "      <td>Tara Reid</td>\n",
              "      <td>woman</td>\n",
              "      <td>1975-11-08</td>\n",
              "      <td>23</td>\n",
              "    </tr>\n",
              "    <tr>\n",
              "      <th>5</th>\n",
              "      <td>Poison Ivy</td>\n",
              "      <td>1992</td>\n",
              "      <td>Katt Shea</td>\n",
              "      <td>42</td>\n",
              "      <td>Tom Skerritt</td>\n",
              "      <td>man</td>\n",
              "      <td>1933-08-25</td>\n",
              "      <td>59</td>\n",
              "      <td>Drew Barrymore</td>\n",
              "      <td>woman</td>\n",
              "      <td>1975-02-22</td>\n",
              "      <td>17</td>\n",
              "    </tr>\n",
              "  </tbody>\n",
              "</table>\n",
              "</div>"
            ],
            "text/plain": [
              "           Movie Name  Release Year  ... Actor 2 Birthdate  Actor 2 Age\n",
              "0    Harold and Maude          1971  ...        1896-10-30           75\n",
              "1               Venus          2006  ...        1982-06-03           24\n",
              "2  The Quiet American          2002  ...        1982-10-01           20\n",
              "3    The Big Lebowski          1998  ...        1975-11-08           23\n",
              "5          Poison Ivy          1992  ...        1975-02-22           17\n",
              "\n",
              "[5 rows x 12 columns]"
            ]
          },
          "metadata": {
            "tags": []
          },
          "execution_count": 66
        }
      ]
    },
    {
      "cell_type": "code",
      "metadata": {
        "id": "wStAct2p_fcP",
        "colab_type": "code",
        "outputId": "6e1b6ae3-d9ab-4072-9d44-6c09da3d8ed9",
        "colab": {
          "base_uri": "https://localhost:8080/",
          "height": 119
        }
      },
      "source": [
        "media_idade_homem = np.mean(age_gap['Actor 1 Age'])\n",
        "media_idade_mulher = np.mean(age_gap['Actor 2 Age'])\n",
        "maior_idade_homem = np.max(age_gap['Actor 1 Age'])\n",
        "maior_idade_mulher = np.max(age_gap['Actor 2 Age'])\n",
        "print('Media da idade do homem: {0:.2f}'.format(media_idade_homem))\n",
        "print('Media da idade do mulher: {0:.2f}'.format(media_idade_mulher))\n",
        "print(\"\\n\")\n",
        "print('Maior idade do homem: {}'.format(maior_idade_homem))\n",
        "print('Maior idade do mulher: {}'.format(maior_idade_mulher))"
      ],
      "execution_count": 0,
      "outputs": [
        {
          "output_type": "stream",
          "text": [
            "Media da idade do homem: 39.17\n",
            "Media da idade do mulher: 30.96\n",
            "\n",
            "\n",
            "Maior idade do homem: 79\n",
            "Maior idade do mulher: 75\n"
          ],
          "name": "stdout"
        }
      ]
    },
    {
      "cell_type": "markdown",
      "metadata": {
        "id": "P-OJ_gM0_0Bz",
        "colab_type": "text"
      },
      "source": [
        "### Distribuição da idade da mulher"
      ]
    },
    {
      "cell_type": "code",
      "metadata": {
        "id": "X9WsEWnP_fnT",
        "colab_type": "code",
        "outputId": "41456444-f589-43ee-fefb-2c7ce08ae8ae",
        "colab": {
          "base_uri": "https://localhost:8080/",
          "height": 283
        }
      },
      "source": [
        "plt.hist(age_gap['Actor 2 Age'], bins=20, density=True, edgecolor='k')\n",
        "plt.xlabel('Idade')\n",
        "plt.ylabel('P(X = x)')\n",
        "plt.show()"
      ],
      "execution_count": 0,
      "outputs": [
        {
          "output_type": "display_data",
          "data": {
            "image/png": "[encoded data removed]",
            "text/plain": [
              "<Figure size 432x288 with 1 Axes>"
            ]
          },
          "metadata": {
            "tags": []
          }
        }
      ]
    },
    {
      "cell_type": "markdown",
      "metadata": {
        "id": "g7CZVGFv_3-W",
        "colab_type": "text"
      },
      "source": [
        "### Distribuição da idade do homem"
      ]
    },
    {
      "cell_type": "code",
      "metadata": {
        "id": "K9Uy9Vry_8aE",
        "colab_type": "code",
        "outputId": "c4e27dd9-967e-459d-c01b-beafb5334b38",
        "colab": {
          "base_uri": "https://localhost:8080/",
          "height": 283
        }
      },
      "source": [
        "plt.hist(age_gap['Actor 1 Age'], bins=20, density=True, edgecolor='k')\n",
        "plt.xlabel('Idade')\n",
        "plt.ylabel('P(X = x)')\n",
        "plt.show()"
      ],
      "execution_count": 0,
      "outputs": [
        {
          "output_type": "display_data",
          "data": {
            "image/png": "[encoded data removed]",
            "text/plain": [
              "<Figure size 432x288 with 1 Axes>"
            ]
          },
          "metadata": {
            "tags": []
          }
        }
      ]
    },
    {
      "cell_type": "markdown",
      "metadata": {
        "id": "8FBU6Aj2BPO2",
        "colab_type": "text"
      },
      "source": [
        "### Analisando a diferença de idade"
      ]
    },
    {
      "cell_type": "code",
      "metadata": {
        "id": "ubTmyVsMAYeo",
        "colab_type": "code",
        "outputId": "ca7fe8a8-cd03-48aa-cc72-3920b0b39d61",
        "colab": {
          "base_uri": "https://localhost:8080/",
          "height": 51
        }
      },
      "source": [
        "media_diferenca = np.mean(age_gap['Age Difference'])\n",
        "std_diferenca = np.std(age_gap['Age Difference'])\n",
        "\n",
        "print(\"Média da diferença de idades: {}\".format(media_diferenca))\n",
        "print(\"Desvio da diferença de idades: {}\".format(std_diferenca))"
      ],
      "execution_count": 0,
      "outputs": [
        {
          "output_type": "stream",
          "text": [
            "Média da diferença de idades: 9.930528375733855\n",
            "Desvio da diferença de idades: 8.247401744364831\n"
          ],
          "name": "stdout"
        }
      ]
    },
    {
      "cell_type": "code",
      "metadata": {
        "id": "pk0C0bJuRl75",
        "colab_type": "code",
        "outputId": "c812270a-decc-4e0a-ccfd-2fb389140f4a",
        "colab": {
          "base_uri": "https://localhost:8080/",
          "height": 300
        }
      },
      "source": [
        "plt.hist(age_gap['Age Difference'], bins=20, density=True, edgecolor='k')\n",
        "plt.xlabel('Diferença')\n",
        "plt.ylabel('P(X = x)')\n",
        "plt.axvline(age_gap['Age Difference'].mean(), color='r', linestyle='dashed', linewidth=1)\n",
        "_, max_ = plt.ylim()\n",
        "plt.text(age_gap['Age Difference'].mean() + age_gap['Age Difference'].mean()/10, \n",
        "         max_ - max_/20, \n",
        "         'Mean: {:.2f}'.format(age_gap['Age Difference'].mean()))"
      ],
      "execution_count": 0,
      "outputs": [
        {
          "output_type": "execute_result",
          "data": {
            "text/plain": [
              "Text(10.92358121330724, 0.07770679662802951, 'Mean: 9.93')"
            ]
          },
          "metadata": {
            "tags": []
          },
          "execution_count": 76
        },
        {
          "output_type": "display_data",
          "data": {
            "image/png": "[encoded data removed]",
            "text/plain": [
              "<Figure size 432x288 with 1 Axes>"
            ]
          },
          "metadata": {
            "tags": []
          }
        }
      ]
    },
    {
      "cell_type": "markdown",
      "metadata": {
        "id": "zNdBoTW5Rxbb",
        "colab_type": "text"
      },
      "source": [
        "Com o histograma acima vemos que temos muitos dados com pouca diferença entre as idades, porém temos dados com uma diferença muito grande, e queremos focar neles e tentar explicá-los.\n",
        "Para uma análise exploratória um pouco mais profunda desses dados, vamos fazer uma IC com as médias de diferenças de idade utilizando a técnica do Bootstrap, assim como feito acima."
      ]
    },
    {
      "cell_type": "code",
      "metadata": {
        "id": "1Z8DOoaNPb7d",
        "colab_type": "code",
        "outputId": "affee1e2-b57d-4725-88ae-cf8ed1ae528e",
        "colab": {
          "base_uri": "https://localhost:8080/",
          "height": 300
        }
      },
      "source": [
        "medias = []\n",
        "for _ in range(10000):\n",
        "  sample = age_gap['Age Difference'].sample(n=10000, replace=True)\n",
        "  medias.append(sample.mean())\n",
        "\n",
        "plt.hist(medias, density=True, bins = 50, edgecolor='k')\n",
        "plt.xlabel('Diferença média de idade entre homem e mulher (em anos)')\n",
        "plt.ylabel('Recorrência dos valores')"
      ],
      "execution_count": 0,
      "outputs": [
        {
          "output_type": "execute_result",
          "data": {
            "text/plain": [
              "Text(0, 0.5, 'Recorrência dos valores')"
            ]
          },
          "metadata": {
            "tags": []
          },
          "execution_count": 77
        },
        {
          "output_type": "display_data",
          "data": {
            "image/png": "[encoded data removed]",
            "text/plain": [
              "<Figure size 432x288 with 1 Axes>"
            ]
          },
          "metadata": {
            "tags": []
          }
        }
      ]
    },
    {
      "cell_type": "code",
      "metadata": {
        "id": "vqLPio3fQoMo",
        "colab_type": "code",
        "outputId": "ed48f20a-0fc2-4288-c03d-078b7695543c",
        "colab": {
          "base_uri": "https://localhost:8080/",
          "height": 34
        }
      },
      "source": [
        "print(\"[{}, {}]\".format(np.percentile(medias, 2.5), np.percentile(medias, 97.5)))"
      ],
      "execution_count": 0,
      "outputs": [
        {
          "output_type": "stream",
          "text": [
            "[9.770195, 10.093002499999999]\n"
          ],
          "name": "stdout"
        }
      ]
    },
    {
      "cell_type": "markdown",
      "metadata": {
        "id": "DpXiy4DFQzy_",
        "colab_type": "text"
      },
      "source": [
        "Portanto, as médias de diferença de idade entre os atores e atrizes principais dos filmes estão em um intervalo de confiança (95%) entre 9.77 e 10.09 anos (aproximadamente). "
      ]
    },
    {
      "cell_type": "markdown",
      "metadata": {
        "id": "meMjPlhdAKS5",
        "colab_type": "text"
      },
      "source": [
        "###  Woody Allen\n",
        "\n",
        "Decidimos analisar como essa diferença de idade é nos filmes do Woody Allen.\n",
        "O diretor é conhecido por filmes com jovens garotas se relacionando com homens mais velhos. Essa diferença ganhou destaque em 1992 quando Allen, então com 57 anos, assumiu relação com a filha adotiva de sua ex-esposa de 22.  Allen também voltou a receber duras críticas em 2017, quando sua filha, Dylan Farrow, [voltou a afirmar ter sido abusada sexualmente pelo pai.](https://www.latimes.com/opinion/op-ed/la-oe-farrow-woody-allen-me-too-20171207-story.html)"
      ]
    },
    {
      "cell_type": "code",
      "metadata": {
        "id": "XMG1XhUD_8sZ",
        "colab_type": "code",
        "outputId": "2395a220-f484-40b6-a412-ae8ec8975cd1",
        "colab": {
          "base_uri": "https://localhost:8080/",
          "height": 204
        }
      },
      "source": [
        "df_woody = age_gap[age_gap['Director'] == 'Woody Allen']\n",
        "df_woody.head()"
      ],
      "execution_count": 0,
      "outputs": [
        {
          "output_type": "execute_result",
          "data": {
            "text/html": [
              "<div>\n",
              "<style scoped>\n",
              "    .dataframe tbody tr th:only-of-type {\n",
              "        vertical-align: middle;\n",
              "    }\n",
              "\n",
              "    .dataframe tbody tr th {\n",
              "        vertical-align: top;\n",
              "    }\n",
              "\n",
              "    .dataframe thead th {\n",
              "        text-align: right;\n",
              "    }\n",
              "</style>\n",
              "<table border=\"1\" class=\"dataframe\">\n",
              "  <thead>\n",
              "    <tr style=\"text-align: right;\">\n",
              "      <th></th>\n",
              "      <th>Movie Name</th>\n",
              "      <th>Release Year</th>\n",
              "      <th>Director</th>\n",
              "      <th>Age Difference</th>\n",
              "      <th>Actor 1 Name</th>\n",
              "      <th>Actor 1 Gender</th>\n",
              "      <th>Actor 1 Birthdate</th>\n",
              "      <th>Actor 1 Age</th>\n",
              "      <th>Actor 2 Name</th>\n",
              "      <th>Actor 2 Gender</th>\n",
              "      <th>Actor 2 Birthdate</th>\n",
              "      <th>Actor 2 Age</th>\n",
              "    </tr>\n",
              "  </thead>\n",
              "  <tbody>\n",
              "    <tr>\n",
              "      <th>6</th>\n",
              "      <td>Whatever Works</td>\n",
              "      <td>2009</td>\n",
              "      <td>Woody Allen</td>\n",
              "      <td>40</td>\n",
              "      <td>Larry David</td>\n",
              "      <td>man</td>\n",
              "      <td>1947-07-02</td>\n",
              "      <td>62</td>\n",
              "      <td>Evan Rachel Wood</td>\n",
              "      <td>woman</td>\n",
              "      <td>1987-09-07</td>\n",
              "      <td>22</td>\n",
              "    </tr>\n",
              "    <tr>\n",
              "      <th>8</th>\n",
              "      <td>Husbands and Wives</td>\n",
              "      <td>1992</td>\n",
              "      <td>Woody Allen</td>\n",
              "      <td>38</td>\n",
              "      <td>Woody Allen</td>\n",
              "      <td>man</td>\n",
              "      <td>1935-12-01</td>\n",
              "      <td>57</td>\n",
              "      <td>Juliette Lewis</td>\n",
              "      <td>woman</td>\n",
              "      <td>1973-06-21</td>\n",
              "      <td>19</td>\n",
              "    </tr>\n",
              "    <tr>\n",
              "      <th>18</th>\n",
              "      <td>Hollywood Ending</td>\n",
              "      <td>2002</td>\n",
              "      <td>Woody Allen</td>\n",
              "      <td>33</td>\n",
              "      <td>Woody Allen</td>\n",
              "      <td>man</td>\n",
              "      <td>1935-12-01</td>\n",
              "      <td>67</td>\n",
              "      <td>Debra Messing</td>\n",
              "      <td>woman</td>\n",
              "      <td>1968-08-15</td>\n",
              "      <td>34</td>\n",
              "    </tr>\n",
              "    <tr>\n",
              "      <th>20</th>\n",
              "      <td>Mighty Aphrodite</td>\n",
              "      <td>1995</td>\n",
              "      <td>Woody Allen</td>\n",
              "      <td>32</td>\n",
              "      <td>Woody Allen</td>\n",
              "      <td>man</td>\n",
              "      <td>1935-12-01</td>\n",
              "      <td>60</td>\n",
              "      <td>Mira Sorvino</td>\n",
              "      <td>woman</td>\n",
              "      <td>1967-09-28</td>\n",
              "      <td>28</td>\n",
              "    </tr>\n",
              "    <tr>\n",
              "      <th>24</th>\n",
              "      <td>Mighty Aphrodite</td>\n",
              "      <td>1995</td>\n",
              "      <td>Woody Allen</td>\n",
              "      <td>31</td>\n",
              "      <td>Woody Allen</td>\n",
              "      <td>man</td>\n",
              "      <td>1935-12-01</td>\n",
              "      <td>60</td>\n",
              "      <td>Helena Bonham Carter</td>\n",
              "      <td>woman</td>\n",
              "      <td>1966-05-26</td>\n",
              "      <td>29</td>\n",
              "    </tr>\n",
              "  </tbody>\n",
              "</table>\n",
              "</div>"
            ],
            "text/plain": [
              "            Movie Name  Release Year  ... Actor 2 Birthdate  Actor 2 Age\n",
              "6       Whatever Works          2009  ...        1987-09-07           22\n",
              "8   Husbands and Wives          1992  ...        1973-06-21           19\n",
              "18    Hollywood Ending          2002  ...        1968-08-15           34\n",
              "20    Mighty Aphrodite          1995  ...        1967-09-28           28\n",
              "24    Mighty Aphrodite          1995  ...        1966-05-26           29\n",
              "\n",
              "[5 rows x 12 columns]"
            ]
          },
          "metadata": {
            "tags": []
          },
          "execution_count": 79
        }
      ]
    },
    {
      "cell_type": "code",
      "metadata": {
        "id": "OcejHuFU_8iE",
        "colab_type": "code",
        "outputId": "59ec6d68-c204-405b-d837-595162ce5069",
        "colab": {
          "base_uri": "https://localhost:8080/",
          "height": 119
        }
      },
      "source": [
        "media_idade_homem = np.mean(df_woody['Actor 1 Age'])\n",
        "media_idade_mulher = np.mean(df_woody['Actor 2 Age'])\n",
        "media_diferenca = np.mean(df_woody['Age Difference'])\n",
        "maior_idade_homem = np.max(df_woody['Actor 1 Age'])\n",
        "maior_idade_mulher = np.max(df_woody['Actor 2 Age'])\n",
        "print('Media da idade do homem: {0:.2f}'.format(media_idade_homem))\n",
        "print('Media da idade do mulher: {0:.2f}'.format(media_idade_mulher))\n",
        "print('Media da diferença: {}'.format(media_diferenca))\n",
        "\n",
        "print()\n",
        "print('Maior idade do homem: {}'.format(maior_idade_homem))\n",
        "print('Maior idade do mulher: {}'.format(maior_idade_mulher))"
      ],
      "execution_count": 0,
      "outputs": [
        {
          "output_type": "stream",
          "text": [
            "Media da idade do homem: 49.40\n",
            "Media da idade do mulher: 29.25\n",
            "Media da diferença: 20.15\n",
            "\n",
            "Maior idade do homem: 67\n",
            "Maior idade do mulher: 47\n"
          ],
          "name": "stdout"
        }
      ]
    },
    {
      "cell_type": "markdown",
      "metadata": {
        "id": "cnA58dBpHkqF",
        "colab_type": "text"
      },
      "source": [
        "# Testes de Hipóteses:"
      ]
    },
    {
      "cell_type": "markdown",
      "metadata": {
        "id": "G7nkZ2drWf2p",
        "colab_type": "text"
      },
      "source": [
        "Primeiramente, vamos trabalhar com a seguinte hipótese nula: \n",
        "### A representação feminina no cast principal dos filmes de Hollywood segue a distribuição populacional norte-americana\n",
        "Para verificar a hipótese, vamos analisar a proporção entre homens/mulheres com papéis protagonistas em filmes e verificar se essa proporção é fruto de uma possível amostra aleatória da população dos EUA."
      ]
    },
    {
      "cell_type": "code",
      "metadata": {
        "id": "LlrEKPd0AYLJ",
        "colab_type": "code",
        "colab": {}
      },
      "source": [
        "def despine(ax=None):\n",
        "    if ax is None:\n",
        "        ax = plt.gca()\n",
        "    # Hide the right and top spines\n",
        "    ax.spines['right'].set_visible(False)\n",
        "    ax.spines['top'].set_visible(False)\n",
        "\n",
        "    # Only show ticks on the left and bottom spines\n",
        "    ax.yaxis.set_ticks_position('left')\n",
        "    ax.xaxis.set_ticks_position('bottom')"
      ],
      "execution_count": 0,
      "outputs": []
    },
    {
      "cell_type": "code",
      "metadata": {
        "id": "m-n8cxdbHnhc",
        "colab_type": "code",
        "outputId": "0211d5fb-4865-4090-af1d-60d16183def5",
        "colab": {
          "base_uri": "https://localhost:8080/",
          "height": 68
        }
      },
      "source": [
        "female_sum_1 = df_merged[df_merged['gender_actor1'] == 1]['gender_actor1'].count()\n",
        "female_sum_2 = df_merged[df_merged['gender_actor2'] == 1]['gender_actor2'].count()\n",
        "female_sum_3 = df_merged[df_merged['gender_actor3'] == 1]['gender_actor3'].count()\n",
        "female_sum_4 = df_merged[df_merged['gender_actor4'] == 1]['gender_actor4'].count()\n",
        "total_female_sum = female_sum_1 + female_sum_2 + female_sum_3 + female_sum_4\n",
        "\n",
        "print('Quantidade de atrizes: {}'.format(total_female_sum))\n",
        "\n",
        "male_sum_1 = df_merged[df_merged['gender_actor1'] == 2]['gender_actor1'].count()\n",
        "male_sum_2 = df_merged[df_merged['gender_actor2'] == 2]['gender_actor2'].count()\n",
        "male_sum_3 = df_merged[df_merged['gender_actor3'] == 2]['gender_actor3'].count()\n",
        "male_sum_4 = df_merged[df_merged['gender_actor4'] == 2]['gender_actor4'].count()\n",
        "total_male_sum = male_sum_1 + male_sum_2 + male_sum_3 + male_sum_4\n",
        "\n",
        "print('Quantidade de atores: {}'.format(total_male_sum))\n",
        "\n",
        "prop_male_female = total_male_sum/total_female_sum\n",
        "prop_male_female = round(prop_male_female, 2)\n",
        "\n",
        "print('Proporção entre atores e atrizes como protagonistas: {}'.format(prop_male_female))\n"
      ],
      "execution_count": 0,
      "outputs": [
        {
          "output_type": "stream",
          "text": [
            "Quantidade de atrizes: 34162\n",
            "Quantidade de atores: 44653\n",
            "Proporção entre atores e atrizes como protagonistas: 1.31\n"
          ],
          "name": "stdout"
        }
      ]
    },
    {
      "cell_type": "markdown",
      "metadata": {
        "id": "u-TMwZG-WkP3",
        "colab_type": "text"
      },
      "source": [
        "Segundo a fonte https://www.indexmundi.com/pt/estados_unidos/populacao_perfil.html, a proporção total entre homens e mulheres nos EUA (2016) é de 0.97 (homens/mulheres), ou seja, a cada 100 mulheres existem 97 homens.\n",
        "\n",
        "Queremos, então, verificar se a proporção de homens/mulheres como protagonistas em Hollywood segue a distribuição populacional dos EUA. Para isso, vamos gerar amostras aleatórias seguindo uma possível distribuição populacional e averiguar se a proporção encontrada em Hollywood está dentro do intervalo de confiança dessa distribuição.\n",
        "\n",
        "Temos 78815 atores. Vamos gerar o número mais aproximado disso que siga a proporção entre homens/mulheres da distribuição populacional dos EUA. O número mais próximo que podemos utilizar para gerar a proporção é 78800, onde temos 40000 mulheres e 38800 homens (a proporção é exatamente 0.97 homens/mulheres)."
      ]
    },
    {
      "cell_type": "code",
      "metadata": {
        "id": "OkGUq9ryWlRl",
        "colab_type": "code",
        "outputId": "b57fa738-9d2a-41a3-ea13-8ad3df789388",
        "colab": {
          "base_uri": "https://localhost:8080/",
          "height": 300
        }
      },
      "source": [
        "female = [1]*40000\n",
        "male = [2]*38800\n",
        "population = female + male \n",
        "\n",
        "proportions = []\n",
        "for _ in range(10000):\n",
        "  sample = random.sample(population,10000)\n",
        "  n_fem = sample.count(1)\n",
        "  proportions.append((10000-n_fem)/n_fem)\n",
        "\n",
        "plt.hist(proportions, density=True, bins = 50, edgecolor='k')\n",
        "despine()\n",
        "plt.xlim(0.88, 1.38)\n",
        "plt.xlabel('Proporção entre homens/mulheres')\n",
        "plt.ylabel('Recorrência das proporções')\n",
        "plt.plot([1.31], [0], 'ro', ms=15)\n",
        "\n"
      ],
      "execution_count": 0,
      "outputs": [
        {
          "output_type": "execute_result",
          "data": {
            "text/plain": [
              "[<matplotlib.lines.Line2D at 0x7ff28c7e50b8>]"
            ]
          },
          "metadata": {
            "tags": []
          },
          "execution_count": 83
        },
        {
          "output_type": "display_data",
          "data": {
            "image/png": "[encoded data removed]",
            "text/plain": [
              "<Figure size 432x288 with 1 Axes>"
            ]
          },
          "metadata": {
            "tags": []
          }
        }
      ]
    },
    {
      "cell_type": "code",
      "metadata": {
        "id": "KazCay4nf3b7",
        "colab_type": "code",
        "outputId": "53440159-ed28-45f6-cb01-de4c2d432991",
        "colab": {
          "base_uri": "https://localhost:8080/",
          "height": 34
        }
      },
      "source": [
        "np.percentile(proportions, 97.5)"
      ],
      "execution_count": 0,
      "outputs": [
        {
          "output_type": "execute_result",
          "data": {
            "text/plain": [
              "1.0064205457463884"
            ]
          },
          "metadata": {
            "tags": []
          },
          "execution_count": 84
        }
      ]
    },
    {
      "cell_type": "markdown",
      "metadata": {
        "id": "l0qALRZTWr6P",
        "colab_type": "text"
      },
      "source": [
        "Considerando o intervalo de confiança de 95%, percebemos que o número máximo aceitável de homens/mulheres é aproximadamente 1.01 (de acordo com as simulações que fizemos), o que é muito distante de 1.31 como é distribuido em Hollywood. Podemos, então, derrubar nossa hipótese nula e concluir que existe desigualdade de gênero na mais famosa indústria do cinema mundial, uma vez que a distribuição dos principais papéis ao longo dos anos não segue a distribuição populacional norte-americana."
      ]
    },
    {
      "cell_type": "markdown",
      "metadata": {
        "id": "PMvezPPiXQX8",
        "colab_type": "text"
      },
      "source": [
        "Vamos trabalhar agora com outra hipótese nula:\n",
        "\n",
        "### O gênero do diretor do filme não tem influência na quantidade de homens e mulheres no cast principal.\n",
        "Para verificar a hipótese, vamos analisar qual é a proporção de homens/mulheres no cast principal apenas de filmes dirigidos por mulheres. A partir disso, vamos verificar se essa proporção é apenas um fruto da aleatoridade da distribuição total de proporção entre homens e mulheres independente do gênero do diretor."
      ]
    },
    {
      "cell_type": "markdown",
      "metadata": {
        "id": "qB8qKHj--HS3",
        "colab_type": "text"
      },
      "source": [
        "**Análise para diretoras**"
      ]
    },
    {
      "cell_type": "code",
      "metadata": {
        "id": "4sF4-EBnWpuJ",
        "colab_type": "code",
        "outputId": "30c582eb-4277-40ad-a7e9-236eada30241",
        "colab": {
          "base_uri": "https://localhost:8080/",
          "height": 204
        }
      },
      "source": [
        "table_merged_female_dir = df_merged[df_merged['gender_director1'] == 1]\n",
        "table_merged_female_dir.head()"
      ],
      "execution_count": 0,
      "outputs": [
        {
          "output_type": "execute_result",
          "data": {
            "text/html": [
              "<div>\n",
              "<style scoped>\n",
              "    .dataframe tbody tr th:only-of-type {\n",
              "        vertical-align: middle;\n",
              "    }\n",
              "\n",
              "    .dataframe tbody tr th {\n",
              "        vertical-align: top;\n",
              "    }\n",
              "\n",
              "    .dataframe thead th {\n",
              "        text-align: right;\n",
              "    }\n",
              "</style>\n",
              "<table border=\"1\" class=\"dataframe\">\n",
              "  <thead>\n",
              "    <tr style=\"text-align: right;\">\n",
              "      <th></th>\n",
              "      <th>gender_actor1</th>\n",
              "      <th>gender_actor2</th>\n",
              "      <th>gender_actor3</th>\n",
              "      <th>gender_actor4</th>\n",
              "      <th>gender_director1</th>\n",
              "      <th>averageRating</th>\n",
              "      <th>numVotes</th>\n",
              "      <th>genres_film</th>\n",
              "    </tr>\n",
              "  </thead>\n",
              "  <tbody>\n",
              "    <tr>\n",
              "      <th>230</th>\n",
              "      <td>2</td>\n",
              "      <td>1</td>\n",
              "      <td>1.0</td>\n",
              "      <td>NaN</td>\n",
              "      <td>1</td>\n",
              "      <td>5.6</td>\n",
              "      <td>147.0</td>\n",
              "      <td>Drama</td>\n",
              "    </tr>\n",
              "    <tr>\n",
              "      <th>257</th>\n",
              "      <td>2</td>\n",
              "      <td>1</td>\n",
              "      <td>1.0</td>\n",
              "      <td>1.0</td>\n",
              "      <td>1</td>\n",
              "      <td>5.5</td>\n",
              "      <td>14.0</td>\n",
              "      <td>Comedy,Drama</td>\n",
              "    </tr>\n",
              "    <tr>\n",
              "      <th>310</th>\n",
              "      <td>2</td>\n",
              "      <td>2</td>\n",
              "      <td>1.0</td>\n",
              "      <td>NaN</td>\n",
              "      <td>1</td>\n",
              "      <td>5.2</td>\n",
              "      <td>12.0</td>\n",
              "      <td>Drama</td>\n",
              "    </tr>\n",
              "    <tr>\n",
              "      <th>314</th>\n",
              "      <td>2</td>\n",
              "      <td>1</td>\n",
              "      <td>NaN</td>\n",
              "      <td>NaN</td>\n",
              "      <td>1</td>\n",
              "      <td>6.2</td>\n",
              "      <td>8.0</td>\n",
              "      <td>Drama</td>\n",
              "    </tr>\n",
              "    <tr>\n",
              "      <th>355</th>\n",
              "      <td>2</td>\n",
              "      <td>1</td>\n",
              "      <td>1.0</td>\n",
              "      <td>NaN</td>\n",
              "      <td>1</td>\n",
              "      <td>5.2</td>\n",
              "      <td>8.0</td>\n",
              "      <td>Drama</td>\n",
              "    </tr>\n",
              "  </tbody>\n",
              "</table>\n",
              "</div>"
            ],
            "text/plain": [
              "     gender_actor1  gender_actor2  ...  numVotes   genres_film\n",
              "230              2              1  ...     147.0         Drama\n",
              "257              2              1  ...      14.0  Comedy,Drama\n",
              "310              2              2  ...      12.0         Drama\n",
              "314              2              1  ...       8.0         Drama\n",
              "355              2              1  ...       8.0         Drama\n",
              "\n",
              "[5 rows x 8 columns]"
            ]
          },
          "metadata": {
            "tags": []
          },
          "execution_count": 85
        }
      ]
    },
    {
      "cell_type": "code",
      "metadata": {
        "id": "pBnxy9W8XW-0",
        "colab_type": "code",
        "outputId": "89a6aba8-5335-48d6-ce07-c1e11c5da87a",
        "colab": {
          "base_uri": "https://localhost:8080/",
          "height": 68
        }
      },
      "source": [
        "female_sum_1_fdir = table_merged_female_dir[table_merged_female_dir['gender_actor1'] == 1]['gender_actor1'].count()\n",
        "female_sum_2_fdir = table_merged_female_dir[table_merged_female_dir['gender_actor2'] == 1]['gender_actor2'].count()\n",
        "female_sum_3_fdir = table_merged_female_dir[table_merged_female_dir['gender_actor3'] == 1]['gender_actor3'].count()\n",
        "female_sum_4_fdir = table_merged_female_dir[table_merged_female_dir['gender_actor4'] == 1]['gender_actor4'].count()\n",
        "total_female_sum_fdir = female_sum_1_fdir + female_sum_2_fdir + female_sum_3_fdir + female_sum_4_fdir\n",
        "\n",
        "print('Quantidade de atrizes: {}'.format(total_female_sum_fdir))\n",
        "\n",
        "male_sum_1_fdir = table_merged_female_dir[table_merged_female_dir['gender_actor1'] == 2]['gender_actor1'].count()\n",
        "male_sum_2_fdir = table_merged_female_dir[table_merged_female_dir['gender_actor2'] == 2]['gender_actor2'].count()\n",
        "male_sum_3_fdir = table_merged_female_dir[table_merged_female_dir['gender_actor3'] == 2]['gender_actor3'].count()\n",
        "male_sum_4_fdir = table_merged_female_dir[table_merged_female_dir['gender_actor4'] == 2]['gender_actor4'].count()\n",
        "total_male_sum_fdir = male_sum_1_fdir + male_sum_2_fdir + male_sum_3_fdir + male_sum_4_fdir\n",
        "\n",
        "print('Quantidade de atores: {}'.format(total_male_sum_fdir))\n",
        "\n",
        "prop_male_female_fdir = total_male_sum_fdir/total_female_sum_fdir\n",
        "prop_male_female_fdir = round(prop_male_female_fdir, 2)\n",
        "\n",
        "print('Proporção entre atores e atrizes como protagonistas: {}'.format(prop_male_female_fdir))"
      ],
      "execution_count": 0,
      "outputs": [
        {
          "output_type": "stream",
          "text": [
            "Quantidade de atrizes: 2474\n",
            "Quantidade de atores: 2529\n",
            "Proporção entre atores e atrizes como protagonistas: 1.02\n"
          ],
          "name": "stdout"
        }
      ]
    },
    {
      "cell_type": "markdown",
      "metadata": {
        "id": "-7_oKZM0i7BX",
        "colab_type": "text"
      },
      "source": [
        "> Agora que sabemos que a proporção entre homens/mulheres em filmes com diretoras mulheres é de 1.02 (e a total é 1.31). \n",
        "\n",
        "Vamos verificar se essa proporção está dentro do intervalo de confiança das proporções levando em conta todos os filmes, independentemente do gênero do diretor. Para isso: \n",
        " - Vamos fazer um filtro da tabela que contém todas as informações que capta os filmes que tem apenas diretoras mulheres;\n",
        " - A partir disso, vamos fazer um teste de permutação, para que seja aleatório o cast em relação ao gênero do diretor;\n",
        " - Pegamos para cada permutação qual a proporção homem/mulher do cast apenas aonde foram alocadas as diretoras mulheres."
      ]
    },
    {
      "cell_type": "code",
      "metadata": {
        "id": "0Dh4JqpiXaly",
        "colab_type": "code",
        "outputId": "51e72bbe-4eda-4e05-c021-faa64688ba93",
        "colab": {
          "base_uri": "https://localhost:8080/",
          "height": 300
        }
      },
      "source": [
        "tab_teste_permut = df_merged.copy()\n",
        "filtro = tab_teste_permut['gender_director1'] == 1\n",
        "\n",
        "props_teste_permut = []\n",
        "for _ in range(10000):\n",
        "  np.random.shuffle(filtro.values)\n",
        "  female_sum_1_fdir = tab_teste_permut[filtro][tab_teste_permut['gender_actor1'] == 1]['gender_actor1'].count()\n",
        "  female_sum_2_fdir = tab_teste_permut[filtro][tab_teste_permut['gender_actor2'] == 1]['gender_actor2'].count()\n",
        "  female_sum_3_fdir = tab_teste_permut[filtro][tab_teste_permut['gender_actor3'] == 1]['gender_actor3'].count()\n",
        "  female_sum_4_fdir = tab_teste_permut[filtro][tab_teste_permut['gender_actor4'] == 1]['gender_actor4'].count()\n",
        "  total_female_sum_fdir = female_sum_1_fdir + female_sum_2_fdir + female_sum_3_fdir + female_sum_4_fdir\n",
        "\n",
        "  male_sum_1_fdir = tab_teste_permut[filtro][tab_teste_permut['gender_actor1'] == 2]['gender_actor1'].count()\n",
        "  male_sum_2_fdir = tab_teste_permut[filtro][tab_teste_permut['gender_actor2'] == 2]['gender_actor2'].count()\n",
        "  male_sum_3_fdir = tab_teste_permut[filtro][tab_teste_permut['gender_actor3'] == 2]['gender_actor3'].count()\n",
        "  male_sum_4_fdir = tab_teste_permut[filtro][tab_teste_permut['gender_actor4'] == 2]['gender_actor4'].count()\n",
        "  total_male_sum_fdir = male_sum_1_fdir + male_sum_2_fdir + male_sum_3_fdir + male_sum_4_fdir\n",
        "\n",
        "  prop_male_female_fdir = total_male_sum_fdir/total_female_sum_fdir\n",
        "\n",
        "  props_teste_permut.append(prop_male_female_fdir)\n",
        "  \n",
        "\n",
        "plt.hist(props_teste_permut, density=True, bins = 50, edgecolor='k')\n",
        "despine()\n",
        "plt.xlim(1.0, 1.40)\n",
        "plt.xlabel('Proporção entre homens/mulheres')\n",
        "plt.ylabel('Recorrência das proporções')\n",
        "plt.plot([1.02], [0], 'ro', ms=15)\n"
      ],
      "execution_count": 0,
      "outputs": [
        {
          "output_type": "execute_result",
          "data": {
            "text/plain": [
              "[<matplotlib.lines.Line2D at 0x7ff286241748>]"
            ]
          },
          "metadata": {
            "tags": []
          },
          "execution_count": 87
        },
        {
          "output_type": "display_data",
          "data": {
            "image/png": "[encoded data removed]",
            "text/plain": [
              "<Figure size 432x288 with 1 Axes>"
            ]
          },
          "metadata": {
            "tags": []
          }
        }
      ]
    },
    {
      "cell_type": "code",
      "metadata": {
        "id": "3tZdqtfAlyUk",
        "colab_type": "code",
        "outputId": "7fd5b27e-e38a-4539-b513-f24124bec33f",
        "colab": {
          "base_uri": "https://localhost:8080/",
          "height": 34
        }
      },
      "source": [
        "np.percentile(props_teste_permut, 2.5)"
      ],
      "execution_count": 0,
      "outputs": [
        {
          "output_type": "execute_result",
          "data": {
            "text/plain": [
              "1.26603204413998"
            ]
          },
          "metadata": {
            "tags": []
          },
          "execution_count": 88
        }
      ]
    },
    {
      "cell_type": "markdown",
      "metadata": {
        "id": "SO8qUwLromSJ",
        "colab_type": "text"
      },
      "source": [
        "Considerando o intervalo de confiança de 95%, percebemos que a proporção mínima de homens/mulheres que obtemos em uma distribuição aleatória na tabela entre o cast e o gênero dos diretores é de aproximadamente 1.27,  enquanto temos uma proporção 1.02 ao analisarmos os dados reais de diretoras mulheres.\n",
        "Com isso, podemos derrubar nossa hipótese nula e concluir, então, que o gênero do diretor do filme influencia, sim, na representatividade de \n",
        "gênero do casting principal."
      ]
    },
    {
      "cell_type": "markdown",
      "metadata": {
        "id": "yM1VVzBHHGQi",
        "colab_type": "text"
      },
      "source": [
        "# Regressão:\n",
        "\n",
        "Nós buscamos prever a idade da mulher no par romântico, dada a idade do homem utilizando uma regressão linear."
      ]
    },
    {
      "cell_type": "markdown",
      "metadata": {
        "id": "-FkhTksgbLTV",
        "colab_type": "text"
      },
      "source": [
        "### Regressão utilizando todos os dados"
      ]
    },
    {
      "cell_type": "code",
      "metadata": {
        "id": "TNLI1WwPapmE",
        "colab_type": "code",
        "outputId": "2c9e0e31-1946-4041-bcb0-0f655a3d7323",
        "colab": {
          "base_uri": "https://localhost:8080/",
          "height": 641
        }
      },
      "source": [
        "from sklearn.linear_model import LinearRegression\n",
        "from sklearn.model_selection import train_test_split\n",
        "from sklearn.metrics import mean_squared_error, r2_score\n",
        "from sklearn.preprocessing import StandardScaler\n",
        "\n",
        "\n",
        "\n",
        "X = pd.DataFrame(age_gap['Actor 1 Age']) #X_h = homens_n['idade']\n",
        "y = pd.DataFrame(age_gap['Actor 2 Age'])\n",
        "\n",
        "\n",
        "X_train, X_test, y_train, y_test= train_test_split(X, y, test_size=0.2, random_state=0)\n",
        "#scaling (Normalização)\n",
        "\n",
        "scaler_X = StandardScaler().fit(X)\n",
        "scaler_y = StandardScaler().fit(y)\n",
        "X = scaler_X.transform(X)\n",
        "y = scaler_y.transform(y)\n",
        "X_train = scaler_X.transform(X_train)\n",
        "y_train = scaler_y.transform(y_train)\n",
        "X_test = scaler_X.transform(X_test)\n",
        "y_test = scaler_y.transform(y_test)\n",
        "\n",
        "\n",
        "regr = LinearRegression()\n",
        "regr.fit(X_train, y_train)\n",
        "\n",
        "\n",
        "# The coefficients\n",
        "print('Coefficient: ', regr.coef_)\n",
        "print(\"Intercept: \", regr.intercept_)\n",
        "\n",
        "y_pred = regr.predict(X_test)\n",
        "\n",
        "# The mean squared error\n",
        "print(\"Mean squared error: %.2f\"\n",
        "      % mean_squared_error(y_test, y_pred))\n",
        "# Explained variance score: 1 is perfect prediction\n",
        "print('Variance score: %.2f' % r2_score(y_test, y_pred))\n",
        "\n",
        "# Plot outputs\n",
        "\n",
        "y_pred = regr.predict(X)\n",
        "\n",
        "plt.scatter(X, y, edgecolor='k', alpha=0.6, s=80)\n",
        "plt.plot(X, y_pred, color='red', linewidth=3)\n",
        "plt.title('Normalizado:')\n",
        "plt.xlabel('Idade Homem Normalizada')\n",
        "plt.ylabel('Idade Mulher Normalizada')\n",
        "despine()\n",
        "plt.show()\n",
        "\n",
        "\n",
        "y_new_inverse = scaler_y.inverse_transform(y_pred)\n",
        "\n",
        "plt.scatter(age_gap['Actor 1 Age'],age_gap['Actor 2 Age'], edgecolor='k', alpha=0.6, s=80)\n",
        "plt.plot(age_gap['Actor 1 Age'], y_new_inverse, color='red', linewidth=3)\n",
        "plt.title('Escala original:')\n",
        "plt.xlabel('Idade Homem')\n",
        "plt.ylabel('Idade Mulher')\n",
        "despine()\n",
        "plt.show()"
      ],
      "execution_count": 0,
      "outputs": [
        {
          "output_type": "stream",
          "text": [
            "Coefficient:  [[0.41013019]]\n",
            "Intercept:  [-0.01344699]\n",
            "Mean squared error: 0.77\n",
            "Variance score: 0.31\n"
          ],
          "name": "stdout"
        },
        {
          "output_type": "display_data",
          "data": {
            "image/png": "[encoded data removed]",
            "text/plain": [
              "<Figure size 432x288 with 1 Axes>"
            ]
          },
          "metadata": {
            "tags": []
          }
        },
        {
          "output_type": "display_data",
          "data": {
            "image/png": "[encoded data removed]",
            "text/plain": [
              "<Figure size 432x288 with 1 Axes>"
            ]
          },
          "metadata": {
            "tags": []
          }
        }
      ]
    },
    {
      "cell_type": "markdown",
      "metadata": {
        "id": "d-u6o2dObS9X",
        "colab_type": "text"
      },
      "source": [
        "Com a regressão acima não tivemos muitas informações. Pudemos perceber a a idade do homem tende a ser maior que a da mulher, mas o excesso de informações (muitas idades iguais) não permite uma boa regressão.\n",
        "Por isso decidimos mudar nossa abordagem para diminuir a quantidade de dados;"
      ]
    },
    {
      "cell_type": "markdown",
      "metadata": {
        "id": "KLVVfdQXBoA3",
        "colab_type": "text"
      },
      "source": [
        "### Diminuindo os dados usando médias\n",
        "\n",
        "Para diminuir a quantidade de pontos e poder melhor compreender os dados criamos duas tabelas: 'Homens' que tem todas as idades de homens e 'Mulheres' que tem todas as idades de mulheres.\n",
        "\n",
        "Para cada uma das idades nessas tabelas tiramos a média de idade do par romântico.\n",
        "\n",
        "Exemplo:\n",
        "- Na tabela homens: \n",
        "  - Homem com 19 anos -> mulher de 24.4 anos\n",
        "  - Homem de 30 anos -> mulher de 27.9556 anos\n",
        "- Na tabela mulheres:\n",
        "  - Mulher de 19 anos -> homem de 30.4211 anos \n",
        "  - Mulher de 30 anos -> homem de  40.0179 anos"
      ]
    },
    {
      "cell_type": "code",
      "metadata": {
        "id": "XlA7xa6oBiiR",
        "colab_type": "code",
        "outputId": "69277258-78fb-4be2-e421-8adb7b6829a7",
        "colab": {
          "base_uri": "https://localhost:8080/",
          "height": 573
        }
      },
      "source": [
        "#Para os homens\n",
        "idades_h = age_gap['Actor 1 Age'].drop_duplicates(keep='first')\n",
        "idades_h.sort_values(axis=0, ascending=True, inplace=True, kind='quicksort')\n",
        "idades_h.reset_index(inplace = True, drop = True)\n",
        "\n",
        "homens = pd.DataFrame(columns=[\"idade\", \"Soma\", \"Count\", \"Media\"])\n",
        "homens['idade'] = idades_h\n",
        "\n",
        "\n",
        "for i in range (len(homens.idade)):\n",
        "  age = homens['idade'].loc[i]\n",
        "  homens.at[i,'Count'] = age_gap[age_gap['Actor 1 Age']==age].Director.count()\n",
        "  homens.at[i,'Soma'] = age_gap.loc[age_gap['Actor 1 Age'] == age, 'Actor 2 Age'].sum()\n",
        "  homens.at[i,'Media'] = homens.at[i,'Soma']/homens.at[i,'Count']\n",
        "\n",
        "\n",
        "\n",
        "\n",
        "#Para as mulheres\n",
        "idades_m = age_gap['Actor 2 Age'].drop_duplicates(keep='first')\n",
        "idades_m.sort_values(axis=0, ascending=True, inplace=True, kind='quicksort')\n",
        "idades_m.reset_index(inplace = True, drop = True)\n",
        "\n",
        "mulheres = pd.DataFrame(columns=[\"idade\", \"Soma\", \"Count\", \"Media\"])\n",
        "mulheres['idade'] = idades_m\n",
        "\n",
        "\n",
        "for i in range (len(mulheres.idade)):\n",
        "  age = mulheres['idade'].loc[i]\n",
        "  mulheres.at[i,'Count'] = age_gap[age_gap['Actor 2 Age']==age].Director.count()\n",
        "  mulheres.at[i,'Soma'] = age_gap.loc[age_gap['Actor 2 Age'] == age, 'Actor 1 Age'].sum()\n",
        "  mulheres.at[i,'Media'] = mulheres.at[i,'Soma']/mulheres.at[i,'Count']\n",
        "\n",
        "  \n",
        "  \n",
        "plt.scatter(mulheres['idade'], mulheres['Media'], edgecolor='k', alpha=0.6, s=80)\n",
        "plt.title('Idade Média do Homem Baseado na Idade da Mulher')\n",
        "plt.xlabel('Idade Mulher')\n",
        "plt.ylabel('Média Idade Homem')\n",
        "despine()\n",
        "plt.show()\n",
        "\n",
        "plt.scatter(homens['idade'], homens['Media'], edgecolor='k', alpha=0.6, s=80)\n",
        "plt.title('Idade Média da Mulher Baseado na Idade do Homem')\n",
        "plt.xlabel('Idade Homem')\n",
        "plt.ylabel('Média Idade Mulher')\n",
        "despine()\n",
        "plt.show()\n",
        "\n",
        "#age_gap_mean\n",
        "\n",
        "#tirando Soma e Count\n",
        "\n",
        "homens.drop(columns=[\"Soma\", \"Count\"], inplace = True)\n",
        "mulheres.drop(columns=[\"Soma\", \"Count\"], inplace = True)"
      ],
      "execution_count": 0,
      "outputs": [
        {
          "output_type": "display_data",
          "data": {
            "image/png": "[encoded data removed]",
            "text/plain": [
              "<Figure size 432x288 with 1 Axes>"
            ]
          },
          "metadata": {
            "tags": []
          }
        },
        {
          "output_type": "display_data",
          "data": {
            "image/png": "[encoded data removed]",
            "text/plain": [
              "<Figure size 432x288 with 1 Axes>"
            ]
          },
          "metadata": {
            "tags": []
          }
        }
      ]
    },
    {
      "cell_type": "code",
      "metadata": {
        "id": "XgvdD5G_Bi-q",
        "colab_type": "code",
        "outputId": "f1a68072-b649-4970-900e-c44049772a1c",
        "colab": {
          "base_uri": "https://localhost:8080/",
          "height": 1000
        }
      },
      "source": [
        "from sklearn.linear_model import LinearRegression\n",
        "from sklearn.model_selection import train_test_split\n",
        "from sklearn.metrics import mean_squared_error, r2_score\n",
        "from sklearn.preprocessing import StandardScaler\n",
        "\n",
        "\n",
        "\n",
        "# Regressão Homens\n",
        "print(\"Regressão Homens:\")\n",
        "X_h = pd.DataFrame(homens['idade']) #X_h = homens_n['idade']\n",
        "y_h = pd.DataFrame(homens['Media'])\n",
        "\n",
        "\n",
        "\n",
        "X_train_h, X_test_h, y_train_h, y_test_h = train_test_split(X_h, y_h, test_size=0.2, random_state=0)\n",
        "#scaling (Normalização)\n",
        "\n",
        "scaler_X_h = StandardScaler().fit(X_h)\n",
        "scaler_y_h = StandardScaler().fit(y_h)\n",
        "X_h = scaler_X_h.transform(X_h)\n",
        "y_h = scaler_y_h.transform(y_h)\n",
        "X_train_h = scaler_X_h.transform(X_train_h)\n",
        "y_train_h = scaler_y_h.transform(y_train_h)\n",
        "X_test_h = scaler_X_h.transform(X_test_h)\n",
        "y_test_h = scaler_y_h.transform(y_test_h)\n",
        "\n",
        "\n",
        "regr_h = LinearRegression()\n",
        "regr_h.fit(X_train_h, y_train_h)\n",
        "\n",
        "\n",
        "# The coefficients\n",
        "print('Coefficients homem: ', regr_h.coef_)\n",
        "print(\"Intercept homem: \", regr_h.intercept_)\n",
        "\n",
        "y_pred_h = regr_h.predict(X_test_h)\n",
        "\n",
        "# The mean squared error\n",
        "print(\"Mean squared error homem: %.2f\"\n",
        "      % mean_squared_error(y_test_h, y_pred_h))\n",
        "# Explained variance score: 1 is perfect prediction\n",
        "print('Variance score homem: %.2f' % r2_score(y_test_h, y_pred_h))\n",
        "\n",
        "# Plot outputs\n",
        "\n",
        "y_pred_h = regr_h.predict(X_h)\n",
        "\n",
        "plt.scatter(X_h, y_h, edgecolor='k', alpha=0.6, s=80)\n",
        "plt.plot(X_h, y_pred_h, color='red', linewidth=3)\n",
        "plt.title('Normalizado:')\n",
        "plt.xlabel('Idade Homem Normalizada')\n",
        "plt.ylabel('Média Idade Mulher Normalizada')\n",
        "despine()\n",
        "plt.show()\n",
        "\n",
        "\n",
        "y_new_inverse = scaler_y_h.inverse_transform(y_pred_h)\n",
        "\n",
        "plt.scatter(homens['idade'],homens['Media'], edgecolor='k', alpha=0.6, s=80)\n",
        "plt.plot(homens['idade'], y_new_inverse, color='red', linewidth=3)\n",
        "plt.title('Escala original:')\n",
        "plt.xlabel('Idade Homem')\n",
        "plt.ylabel('Média Idade Mulher')\n",
        "despine()\n",
        "plt.show()\n",
        "\n",
        "# Regressão Mulheres\n",
        "print(\"Regressão Mulheres:\")\n",
        "X_m = pd.DataFrame(mulheres['idade']) #X_m = homens_n['idade']\n",
        "y_m = pd.DataFrame(mulheres['Media'])\n",
        "\n",
        "\n",
        "\n",
        "X_train_m, X_test_m, y_train_m, y_test_m = train_test_split(X_m, y_m, test_size=0.2, random_state=0)\n",
        "\n",
        "#scaling (Normalização)\n",
        "\n",
        "scaler_X_m = StandardScaler().fit(X_m)\n",
        "scaler_y_m = StandardScaler().fit(y_m)\n",
        "X_m = scaler_X_m.transform(X_m)\n",
        "y_m = scaler_y_m.transform(y_m)\n",
        "X_train_m = scaler_X_m.transform(X_train_m)\n",
        "y_train_m = scaler_y_m.transform(y_train_m)\n",
        "X_test_m = scaler_X_m.transform(X_test_m)\n",
        "y_test_m = scaler_y_m.transform(y_test_m)\n",
        "\n",
        "\n",
        "regr_m = LinearRegression()\n",
        "regr_m.fit(X_train_m, y_train_m)\n",
        "\n",
        "\n",
        "# The coefficients\n",
        "print('Coefficients mulher: ', regr_m.coef_)\n",
        "print(\"Intercept mulher: \", regr_m.intercept_)\n",
        "\n",
        "y_pred_m = regr_m.predict(X_test_m)\n",
        "\n",
        "# The mean squared error\n",
        "print(\"Mean squared error mulher: %.2f\"\n",
        "      % mean_squared_error(y_test_m, y_pred_m))\n",
        "# Explained variance score: 1 is perfect prediction\n",
        "print('Variance score mulher: %.2f' % r2_score(y_test_m, y_pred_m))\n",
        "\n",
        "# Plot outputs\n",
        "\n",
        "y_pred_m = regr_m.predict(X_m)\n",
        "\n",
        "plt.scatter(X_m, y_m, edgecolor='k', alpha=0.6, s=80)\n",
        "plt.plot(X_m, y_pred_m, color='red', linewidth=3)\n",
        "plt.title('Normalizado:')\n",
        "plt.xlabel('Idade Mulher Normalizada')\n",
        "plt.ylabel('Média Idade Homem Normalizada')\n",
        "despine()\n",
        "plt.show()\n",
        "\n",
        "\n",
        "y_new_inverse = scaler_y_m.inverse_transform(y_pred_m)\n",
        "\n",
        "plt.scatter(mulheres['idade'],mulheres['Media'], edgecolor='k', alpha=0.6, s=80)\n",
        "plt.plot(mulheres['idade'], y_new_inverse, color='red', linewidth=3)\n",
        "plt.title('Escala original:')\n",
        "plt.xlabel('Idade Mulher')\n",
        "plt.ylabel('Média Idade Homem')\n",
        "despine()\n",
        "plt.show()\n",
        "\n"
      ],
      "execution_count": 0,
      "outputs": [
        {
          "output_type": "stream",
          "text": [
            "Regressão Homens:\n",
            "Coefficients homem:  [[0.69930997]]\n",
            "Intercept homem:  [0.01612429]\n",
            "Mean squared error homem: 0.03\n",
            "Variance score homem: 0.90\n"
          ],
          "name": "stdout"
        },
        {
          "output_type": "display_data",
          "data": {
            "image/png": "[encoded data removed]",
            "text/plain": [
              "<Figure size 432x288 with 1 Axes>"
            ]
          },
          "metadata": {
            "tags": []
          }
        },
        {
          "output_type": "display_data",
          "data": {
            "image/png": "[encoded data removed]",
            "text/plain": [
              "<Figure size 432x288 with 1 Axes>"
            ]
          },
          "metadata": {
            "tags": []
          }
        },
        {
          "output_type": "stream",
          "text": [
            "Regressão Mulheres:\n",
            "Coefficients mulher:  [[0.68354193]]\n",
            "Intercept mulher:  [-0.00367495]\n",
            "Mean squared error mulher: 0.09\n",
            "Variance score mulher: 0.81\n"
          ],
          "name": "stdout"
        },
        {
          "output_type": "display_data",
          "data": {
            "image/png": "[encoded data removed]",
            "text/plain": [
              "<Figure size 432x288 with 1 Axes>"
            ]
          },
          "metadata": {
            "tags": []
          }
        },
        {
          "output_type": "display_data",
          "data": {
            "image/png": "[encoded data removed]",
            "text/plain": [
              "<Figure size 432x288 with 1 Axes>"
            ]
          },
          "metadata": {
            "tags": []
          }
        }
      ]
    },
    {
      "cell_type": "markdown",
      "metadata": {
        "id": "BYpLjOoOakl2",
        "colab_type": "text"
      },
      "source": [
        "A utilização das médias das idades reduziu imensamente nossos dados, além disso passamos a ter correspondência direta entre x e y.\n",
        "\n",
        "Por essa nova análise pudemos perceber que:\n",
        "- A idade do homem tende a ser cerca de 10 anos superior a da mulher;\n",
        "- A idade da mulher não costuma passar dos 45 anos, independentemente da idade dos homens\n",
        "\n",
        "Nossas descobertas são reforçadas pelos histogramas (plotados anteriormente) e, até mesmo, pela antiga regressão que já havia indicado uma tendência a idades maiores nos homens"
      ]
    },
    {
      "cell_type": "markdown",
      "metadata": {
        "id": "ux1UDZaROCul",
        "colab_type": "text"
      },
      "source": [
        "# Classificação\n",
        "\n",
        "Queremos ver se é possível predizer o gênero do diretor a partir do gênero do cast principal, da avaliação do filme e do gênero do filme. Para isso iremos utilizar a tabela criada com as informações do IMDb e do TMDb.\n",
        "\n"
      ]
    },
    {
      "cell_type": "code",
      "metadata": {
        "id": "vmf5uP16Vvk_",
        "colab_type": "code",
        "colab": {}
      },
      "source": [
        "# variáveis utilizadas\n",
        "TARGET = \"gender_director1\"\n",
        "\n",
        "K_Folds = 5"
      ],
      "execution_count": 0,
      "outputs": []
    },
    {
      "cell_type": "markdown",
      "metadata": {
        "id": "39AnNrKXVump",
        "colab_type": "text"
      },
      "source": [
        "Agora precisamos excluir alguns dados faltantes que ainda existem na nossa tabela para poder fazer a classificação."
      ]
    },
    {
      "cell_type": "code",
      "metadata": {
        "id": "IYBqzQ6zVuLf",
        "colab_type": "code",
        "outputId": "8d7c8526-a845-4a98-bfd2-440e132a1c15",
        "colab": {
          "base_uri": "https://localhost:8080/",
          "height": 297
        }
      },
      "source": [
        "df_merged.isnull().sum().to_frame(\"Dados faltando\").join(   \n",
        "    (df_merged.isnull().sum().to_frame(\"%\")*100/len(df_merged)).round(2))"
      ],
      "execution_count": 0,
      "outputs": [
        {
          "output_type": "execute_result",
          "data": {
            "text/html": [
              "<div>\n",
              "<style scoped>\n",
              "    .dataframe tbody tr th:only-of-type {\n",
              "        vertical-align: middle;\n",
              "    }\n",
              "\n",
              "    .dataframe tbody tr th {\n",
              "        vertical-align: top;\n",
              "    }\n",
              "\n",
              "    .dataframe thead th {\n",
              "        text-align: right;\n",
              "    }\n",
              "</style>\n",
              "<table border=\"1\" class=\"dataframe\">\n",
              "  <thead>\n",
              "    <tr style=\"text-align: right;\">\n",
              "      <th></th>\n",
              "      <th>Dados faltando</th>\n",
              "      <th>%</th>\n",
              "    </tr>\n",
              "  </thead>\n",
              "  <tbody>\n",
              "    <tr>\n",
              "      <th>gender_actor1</th>\n",
              "      <td>0</td>\n",
              "      <td>0.00</td>\n",
              "    </tr>\n",
              "    <tr>\n",
              "      <th>gender_actor2</th>\n",
              "      <td>0</td>\n",
              "      <td>0.00</td>\n",
              "    </tr>\n",
              "    <tr>\n",
              "      <th>gender_actor3</th>\n",
              "      <td>7700</td>\n",
              "      <td>29.83</td>\n",
              "    </tr>\n",
              "    <tr>\n",
              "      <th>gender_actor4</th>\n",
              "      <td>16741</td>\n",
              "      <td>64.85</td>\n",
              "    </tr>\n",
              "    <tr>\n",
              "      <th>gender_director1</th>\n",
              "      <td>0</td>\n",
              "      <td>0.00</td>\n",
              "    </tr>\n",
              "    <tr>\n",
              "      <th>averageRating</th>\n",
              "      <td>2897</td>\n",
              "      <td>11.22</td>\n",
              "    </tr>\n",
              "    <tr>\n",
              "      <th>numVotes</th>\n",
              "      <td>2897</td>\n",
              "      <td>11.22</td>\n",
              "    </tr>\n",
              "    <tr>\n",
              "      <th>genres_film</th>\n",
              "      <td>0</td>\n",
              "      <td>0.00</td>\n",
              "    </tr>\n",
              "  </tbody>\n",
              "</table>\n",
              "</div>"
            ],
            "text/plain": [
              "                  Dados faltando      %\n",
              "gender_actor1                  0   0.00\n",
              "gender_actor2                  0   0.00\n",
              "gender_actor3               7700  29.83\n",
              "gender_actor4              16741  64.85\n",
              "gender_director1               0   0.00\n",
              "averageRating               2897  11.22\n",
              "numVotes                    2897  11.22\n",
              "genres_film                    0   0.00"
            ]
          },
          "metadata": {
            "tags": []
          },
          "execution_count": 93
        }
      ]
    },
    {
      "cell_type": "code",
      "metadata": {
        "id": "1K8m_oMiV7Kg",
        "colab_type": "code",
        "colab": {}
      },
      "source": [
        "to_drop = [\"gender_actor4\"]\n",
        "\n",
        "df_merged = df_merged.drop(to_drop, axis=1)"
      ],
      "execution_count": 0,
      "outputs": []
    },
    {
      "cell_type": "markdown",
      "metadata": {
        "id": "PR_21PeiPgkS",
        "colab_type": "text"
      },
      "source": [
        "Precisamos remover as linhas restantes que ainda possuem algum atributo nulo."
      ]
    },
    {
      "cell_type": "code",
      "metadata": {
        "id": "cT_B0NaaOkZh",
        "colab_type": "code",
        "outputId": "b02c097c-6614-4ba4-dd99-3aae09b761a7",
        "colab": {
          "base_uri": "https://localhost:8080/",
          "height": 51
        }
      },
      "source": [
        "n_before = df_merged.shape[0]\n",
        "df_merged = df_merged.dropna(axis=0, how=\"any\")\n",
        "print(\"\\nLinhas removidas: {}\".format(n_before - df_merged.shape[0]))\n",
        "\n",
        "# Certifica que nao ha mais dados faltando\n",
        "assert df_merged.isnull().sum().sum() == 0"
      ],
      "execution_count": 0,
      "outputs": [
        {
          "output_type": "stream",
          "text": [
            "\n",
            "Linhas removidas: 9642\n"
          ],
          "name": "stdout"
        }
      ]
    },
    {
      "cell_type": "markdown",
      "metadata": {
        "id": "OEWzcNSeVITe",
        "colab_type": "text"
      },
      "source": [
        "Cada filme pode ter até 3 gêneros, que são atributos categóricos, e nós devemos tranformá-los em números."
      ]
    },
    {
      "cell_type": "code",
      "metadata": {
        "id": "DyauYklmPo7B",
        "colab_type": "code",
        "outputId": "a92873ed-0082-474f-82ef-4afd2553f16d",
        "colab": {
          "base_uri": "https://localhost:8080/",
          "height": 1000
        }
      },
      "source": [
        "cleaned = df_merged.genres_film.str.split(',', expand=True)\n",
        "cleaned"
      ],
      "execution_count": 0,
      "outputs": [
        {
          "output_type": "execute_result",
          "data": {
            "text/html": [
              "<div>\n",
              "<style scoped>\n",
              "    .dataframe tbody tr th:only-of-type {\n",
              "        vertical-align: middle;\n",
              "    }\n",
              "\n",
              "    .dataframe tbody tr th {\n",
              "        vertical-align: top;\n",
              "    }\n",
              "\n",
              "    .dataframe thead th {\n",
              "        text-align: right;\n",
              "    }\n",
              "</style>\n",
              "<table border=\"1\" class=\"dataframe\">\n",
              "  <thead>\n",
              "    <tr style=\"text-align: right;\">\n",
              "      <th></th>\n",
              "      <th>0</th>\n",
              "      <th>1</th>\n",
              "      <th>2</th>\n",
              "    </tr>\n",
              "  </thead>\n",
              "  <tbody>\n",
              "    <tr>\n",
              "      <th>0</th>\n",
              "      <td>Drama</td>\n",
              "      <td>Short</td>\n",
              "      <td>None</td>\n",
              "    </tr>\n",
              "    <tr>\n",
              "      <th>1</th>\n",
              "      <td>Crime</td>\n",
              "      <td>Short</td>\n",
              "      <td>None</td>\n",
              "    </tr>\n",
              "    <tr>\n",
              "      <th>2</th>\n",
              "      <td>Comedy</td>\n",
              "      <td>Short</td>\n",
              "      <td>None</td>\n",
              "    </tr>\n",
              "    <tr>\n",
              "      <th>3</th>\n",
              "      <td>Drama</td>\n",
              "      <td>Short</td>\n",
              "      <td>None</td>\n",
              "    </tr>\n",
              "    <tr>\n",
              "      <th>6</th>\n",
              "      <td>Action</td>\n",
              "      <td>Short</td>\n",
              "      <td>Western</td>\n",
              "    </tr>\n",
              "    <tr>\n",
              "      <th>14</th>\n",
              "      <td>Drama</td>\n",
              "      <td>Short</td>\n",
              "      <td>None</td>\n",
              "    </tr>\n",
              "    <tr>\n",
              "      <th>16</th>\n",
              "      <td>Comedy</td>\n",
              "      <td>Short</td>\n",
              "      <td>None</td>\n",
              "    </tr>\n",
              "    <tr>\n",
              "      <th>18</th>\n",
              "      <td>Comedy</td>\n",
              "      <td>Drama</td>\n",
              "      <td>Short</td>\n",
              "    </tr>\n",
              "    <tr>\n",
              "      <th>21</th>\n",
              "      <td>Drama</td>\n",
              "      <td>Short</td>\n",
              "      <td>None</td>\n",
              "    </tr>\n",
              "    <tr>\n",
              "      <th>24</th>\n",
              "      <td>Comedy</td>\n",
              "      <td>Short</td>\n",
              "      <td>None</td>\n",
              "    </tr>\n",
              "    <tr>\n",
              "      <th>27</th>\n",
              "      <td>Drama</td>\n",
              "      <td>Short</td>\n",
              "      <td>None</td>\n",
              "    </tr>\n",
              "    <tr>\n",
              "      <th>28</th>\n",
              "      <td>Comedy</td>\n",
              "      <td>Short</td>\n",
              "      <td>None</td>\n",
              "    </tr>\n",
              "    <tr>\n",
              "      <th>29</th>\n",
              "      <td>Comedy</td>\n",
              "      <td>Short</td>\n",
              "      <td>None</td>\n",
              "    </tr>\n",
              "    <tr>\n",
              "      <th>31</th>\n",
              "      <td>Drama</td>\n",
              "      <td>Short</td>\n",
              "      <td>War</td>\n",
              "    </tr>\n",
              "    <tr>\n",
              "      <th>32</th>\n",
              "      <td>Drama</td>\n",
              "      <td>Short</td>\n",
              "      <td>None</td>\n",
              "    </tr>\n",
              "    <tr>\n",
              "      <th>33</th>\n",
              "      <td>Drama</td>\n",
              "      <td>Short</td>\n",
              "      <td>None</td>\n",
              "    </tr>\n",
              "    <tr>\n",
              "      <th>35</th>\n",
              "      <td>Comedy</td>\n",
              "      <td>Short</td>\n",
              "      <td>None</td>\n",
              "    </tr>\n",
              "    <tr>\n",
              "      <th>36</th>\n",
              "      <td>Comedy</td>\n",
              "      <td>Short</td>\n",
              "      <td>None</td>\n",
              "    </tr>\n",
              "    <tr>\n",
              "      <th>37</th>\n",
              "      <td>Crime</td>\n",
              "      <td>Short</td>\n",
              "      <td>None</td>\n",
              "    </tr>\n",
              "    <tr>\n",
              "      <th>38</th>\n",
              "      <td>Drama</td>\n",
              "      <td>Short</td>\n",
              "      <td>War</td>\n",
              "    </tr>\n",
              "    <tr>\n",
              "      <th>41</th>\n",
              "      <td>Comedy</td>\n",
              "      <td>Short</td>\n",
              "      <td>None</td>\n",
              "    </tr>\n",
              "    <tr>\n",
              "      <th>42</th>\n",
              "      <td>Drama</td>\n",
              "      <td>Short</td>\n",
              "      <td>None</td>\n",
              "    </tr>\n",
              "    <tr>\n",
              "      <th>44</th>\n",
              "      <td>Comedy</td>\n",
              "      <td>Short</td>\n",
              "      <td>None</td>\n",
              "    </tr>\n",
              "    <tr>\n",
              "      <th>45</th>\n",
              "      <td>Drama</td>\n",
              "      <td>Short</td>\n",
              "      <td>None</td>\n",
              "    </tr>\n",
              "    <tr>\n",
              "      <th>46</th>\n",
              "      <td>Comedy</td>\n",
              "      <td>Short</td>\n",
              "      <td>None</td>\n",
              "    </tr>\n",
              "    <tr>\n",
              "      <th>48</th>\n",
              "      <td>Short</td>\n",
              "      <td>Western</td>\n",
              "      <td>None</td>\n",
              "    </tr>\n",
              "    <tr>\n",
              "      <th>49</th>\n",
              "      <td>Short</td>\n",
              "      <td>None</td>\n",
              "      <td>None</td>\n",
              "    </tr>\n",
              "    <tr>\n",
              "      <th>50</th>\n",
              "      <td>Short</td>\n",
              "      <td>None</td>\n",
              "      <td>None</td>\n",
              "    </tr>\n",
              "    <tr>\n",
              "      <th>51</th>\n",
              "      <td>Drama</td>\n",
              "      <td>Short</td>\n",
              "      <td>None</td>\n",
              "    </tr>\n",
              "    <tr>\n",
              "      <th>52</th>\n",
              "      <td>Comedy</td>\n",
              "      <td>Short</td>\n",
              "      <td>None</td>\n",
              "    </tr>\n",
              "    <tr>\n",
              "      <th>...</th>\n",
              "      <td>...</td>\n",
              "      <td>...</td>\n",
              "      <td>...</td>\n",
              "    </tr>\n",
              "    <tr>\n",
              "      <th>22878</th>\n",
              "      <td>Action</td>\n",
              "      <td>Adventure</td>\n",
              "      <td>None</td>\n",
              "    </tr>\n",
              "    <tr>\n",
              "      <th>22880</th>\n",
              "      <td>\\N</td>\n",
              "      <td>None</td>\n",
              "      <td>None</td>\n",
              "    </tr>\n",
              "    <tr>\n",
              "      <th>22881</th>\n",
              "      <td>Sci-Fi</td>\n",
              "      <td>None</td>\n",
              "      <td>None</td>\n",
              "    </tr>\n",
              "    <tr>\n",
              "      <th>22883</th>\n",
              "      <td>Family</td>\n",
              "      <td>None</td>\n",
              "      <td>None</td>\n",
              "    </tr>\n",
              "    <tr>\n",
              "      <th>22885</th>\n",
              "      <td>Drama</td>\n",
              "      <td>None</td>\n",
              "      <td>None</td>\n",
              "    </tr>\n",
              "    <tr>\n",
              "      <th>22886</th>\n",
              "      <td>Family</td>\n",
              "      <td>Fantasy</td>\n",
              "      <td>None</td>\n",
              "    </tr>\n",
              "    <tr>\n",
              "      <th>22887</th>\n",
              "      <td>Comedy</td>\n",
              "      <td>None</td>\n",
              "      <td>None</td>\n",
              "    </tr>\n",
              "    <tr>\n",
              "      <th>22888</th>\n",
              "      <td>Comedy</td>\n",
              "      <td>Drama</td>\n",
              "      <td>Thriller</td>\n",
              "    </tr>\n",
              "    <tr>\n",
              "      <th>22889</th>\n",
              "      <td>Comedy</td>\n",
              "      <td>None</td>\n",
              "      <td>None</td>\n",
              "    </tr>\n",
              "    <tr>\n",
              "      <th>22890</th>\n",
              "      <td>Animation</td>\n",
              "      <td>Family</td>\n",
              "      <td>Short</td>\n",
              "    </tr>\n",
              "    <tr>\n",
              "      <th>22891</th>\n",
              "      <td>Comedy</td>\n",
              "      <td>Family</td>\n",
              "      <td>Fantasy</td>\n",
              "    </tr>\n",
              "    <tr>\n",
              "      <th>22892</th>\n",
              "      <td>Crime</td>\n",
              "      <td>Drama</td>\n",
              "      <td>Mystery</td>\n",
              "    </tr>\n",
              "    <tr>\n",
              "      <th>22893</th>\n",
              "      <td>Adventure</td>\n",
              "      <td>Comedy</td>\n",
              "      <td>Drama</td>\n",
              "    </tr>\n",
              "    <tr>\n",
              "      <th>22894</th>\n",
              "      <td>Comedy</td>\n",
              "      <td>None</td>\n",
              "      <td>None</td>\n",
              "    </tr>\n",
              "    <tr>\n",
              "      <th>22895</th>\n",
              "      <td>Drama</td>\n",
              "      <td>None</td>\n",
              "      <td>None</td>\n",
              "    </tr>\n",
              "    <tr>\n",
              "      <th>22896</th>\n",
              "      <td>Action</td>\n",
              "      <td>Comedy</td>\n",
              "      <td>Crime</td>\n",
              "    </tr>\n",
              "    <tr>\n",
              "      <th>22897</th>\n",
              "      <td>Drama</td>\n",
              "      <td>Fantasy</td>\n",
              "      <td>Mystery</td>\n",
              "    </tr>\n",
              "    <tr>\n",
              "      <th>22898</th>\n",
              "      <td>Action</td>\n",
              "      <td>Adventure</td>\n",
              "      <td>Drama</td>\n",
              "    </tr>\n",
              "    <tr>\n",
              "      <th>22899</th>\n",
              "      <td>Drama</td>\n",
              "      <td>Music</td>\n",
              "      <td>Romance</td>\n",
              "    </tr>\n",
              "    <tr>\n",
              "      <th>22902</th>\n",
              "      <td>Short</td>\n",
              "      <td>None</td>\n",
              "      <td>None</td>\n",
              "    </tr>\n",
              "    <tr>\n",
              "      <th>22903</th>\n",
              "      <td>Comedy</td>\n",
              "      <td>None</td>\n",
              "      <td>None</td>\n",
              "    </tr>\n",
              "    <tr>\n",
              "      <th>22904</th>\n",
              "      <td>Action</td>\n",
              "      <td>Drama</td>\n",
              "      <td>Horror</td>\n",
              "    </tr>\n",
              "    <tr>\n",
              "      <th>22905</th>\n",
              "      <td>Crime</td>\n",
              "      <td>Drama</td>\n",
              "      <td>Mystery</td>\n",
              "    </tr>\n",
              "    <tr>\n",
              "      <th>22906</th>\n",
              "      <td>Action</td>\n",
              "      <td>Comedy</td>\n",
              "      <td>None</td>\n",
              "    </tr>\n",
              "    <tr>\n",
              "      <th>22907</th>\n",
              "      <td>Drama</td>\n",
              "      <td>Thriller</td>\n",
              "      <td>None</td>\n",
              "    </tr>\n",
              "    <tr>\n",
              "      <th>22908</th>\n",
              "      <td>Comedy</td>\n",
              "      <td>Drama</td>\n",
              "      <td>Romance</td>\n",
              "    </tr>\n",
              "    <tr>\n",
              "      <th>22911</th>\n",
              "      <td>Drama</td>\n",
              "      <td>Horror</td>\n",
              "      <td>Sci-Fi</td>\n",
              "    </tr>\n",
              "    <tr>\n",
              "      <th>22912</th>\n",
              "      <td>Biography</td>\n",
              "      <td>Drama</td>\n",
              "      <td>Romance</td>\n",
              "    </tr>\n",
              "    <tr>\n",
              "      <th>22913</th>\n",
              "      <td>Adventure</td>\n",
              "      <td>Animation</td>\n",
              "      <td>Comedy</td>\n",
              "    </tr>\n",
              "    <tr>\n",
              "      <th>22915</th>\n",
              "      <td>Comedy</td>\n",
              "      <td>Drama</td>\n",
              "      <td>None</td>\n",
              "    </tr>\n",
              "  </tbody>\n",
              "</table>\n",
              "<p>16172 rows × 3 columns</p>\n",
              "</div>"
            ],
            "text/plain": [
              "               0          1         2\n",
              "0          Drama      Short      None\n",
              "1          Crime      Short      None\n",
              "2         Comedy      Short      None\n",
              "3          Drama      Short      None\n",
              "6         Action      Short   Western\n",
              "14         Drama      Short      None\n",
              "16        Comedy      Short      None\n",
              "18        Comedy      Drama     Short\n",
              "21         Drama      Short      None\n",
              "24        Comedy      Short      None\n",
              "27         Drama      Short      None\n",
              "28        Comedy      Short      None\n",
              "29        Comedy      Short      None\n",
              "31         Drama      Short       War\n",
              "32         Drama      Short      None\n",
              "33         Drama      Short      None\n",
              "35        Comedy      Short      None\n",
              "36        Comedy      Short      None\n",
              "37         Crime      Short      None\n",
              "38         Drama      Short       War\n",
              "41        Comedy      Short      None\n",
              "42         Drama      Short      None\n",
              "44        Comedy      Short      None\n",
              "45         Drama      Short      None\n",
              "46        Comedy      Short      None\n",
              "48         Short    Western      None\n",
              "49         Short       None      None\n",
              "50         Short       None      None\n",
              "51         Drama      Short      None\n",
              "52        Comedy      Short      None\n",
              "...          ...        ...       ...\n",
              "22878     Action  Adventure      None\n",
              "22880         \\N       None      None\n",
              "22881     Sci-Fi       None      None\n",
              "22883     Family       None      None\n",
              "22885      Drama       None      None\n",
              "22886     Family    Fantasy      None\n",
              "22887     Comedy       None      None\n",
              "22888     Comedy      Drama  Thriller\n",
              "22889     Comedy       None      None\n",
              "22890  Animation     Family     Short\n",
              "22891     Comedy     Family   Fantasy\n",
              "22892      Crime      Drama   Mystery\n",
              "22893  Adventure     Comedy     Drama\n",
              "22894     Comedy       None      None\n",
              "22895      Drama       None      None\n",
              "22896     Action     Comedy     Crime\n",
              "22897      Drama    Fantasy   Mystery\n",
              "22898     Action  Adventure     Drama\n",
              "22899      Drama      Music   Romance\n",
              "22902      Short       None      None\n",
              "22903     Comedy       None      None\n",
              "22904     Action      Drama    Horror\n",
              "22905      Crime      Drama   Mystery\n",
              "22906     Action     Comedy      None\n",
              "22907      Drama   Thriller      None\n",
              "22908     Comedy      Drama   Romance\n",
              "22911      Drama     Horror    Sci-Fi\n",
              "22912  Biography      Drama   Romance\n",
              "22913  Adventure  Animation    Comedy\n",
              "22915     Comedy      Drama      None\n",
              "\n",
              "[16172 rows x 3 columns]"
            ]
          },
          "metadata": {
            "tags": []
          },
          "execution_count": 96
        }
      ]
    },
    {
      "cell_type": "markdown",
      "metadata": {
        "id": "aYa0__DSVUis",
        "colab_type": "text"
      },
      "source": [
        "Temos muitos dados faltando para gêneros 2 e 3, para não excluir mais linhas da nossa tabela vamos utilizar só o gênero 1 como atributo para nossa classificação."
      ]
    },
    {
      "cell_type": "code",
      "metadata": {
        "id": "jVZ1c2naVQ3s",
        "colab_type": "code",
        "outputId": "90e73271-0c5f-404e-e883-80372e95c83b",
        "colab": {
          "base_uri": "https://localhost:8080/",
          "height": 142
        }
      },
      "source": [
        "cleaned.isnull().sum().to_frame(\"Dados faltando\").join(\n",
        "    (cleaned.isnull().sum().to_frame(\"%\")*100/len(cleaned)).round(2))"
      ],
      "execution_count": 0,
      "outputs": [
        {
          "output_type": "execute_result",
          "data": {
            "text/html": [
              "<div>\n",
              "<style scoped>\n",
              "    .dataframe tbody tr th:only-of-type {\n",
              "        vertical-align: middle;\n",
              "    }\n",
              "\n",
              "    .dataframe tbody tr th {\n",
              "        vertical-align: top;\n",
              "    }\n",
              "\n",
              "    .dataframe thead th {\n",
              "        text-align: right;\n",
              "    }\n",
              "</style>\n",
              "<table border=\"1\" class=\"dataframe\">\n",
              "  <thead>\n",
              "    <tr style=\"text-align: right;\">\n",
              "      <th></th>\n",
              "      <th>Dados faltando</th>\n",
              "      <th>%</th>\n",
              "    </tr>\n",
              "  </thead>\n",
              "  <tbody>\n",
              "    <tr>\n",
              "      <th>0</th>\n",
              "      <td>0</td>\n",
              "      <td>0.00</td>\n",
              "    </tr>\n",
              "    <tr>\n",
              "      <th>1</th>\n",
              "      <td>4652</td>\n",
              "      <td>28.77</td>\n",
              "    </tr>\n",
              "    <tr>\n",
              "      <th>2</th>\n",
              "      <td>9630</td>\n",
              "      <td>59.55</td>\n",
              "    </tr>\n",
              "  </tbody>\n",
              "</table>\n",
              "</div>"
            ],
            "text/plain": [
              "   Dados faltando      %\n",
              "0               0   0.00\n",
              "1            4652  28.77\n",
              "2            9630  59.55"
            ]
          },
          "metadata": {
            "tags": []
          },
          "execution_count": 97
        }
      ]
    },
    {
      "cell_type": "markdown",
      "metadata": {
        "id": "XBSopeq92L90",
        "colab_type": "text"
      },
      "source": [
        "Precisamos codificar nossos atributos categóricos, que no caso é o gênero do filme, para numérico. Escolhemos fazer uso de substituição da palavra por um número, ao invés de one-hot encoding."
      ]
    },
    {
      "cell_type": "code",
      "metadata": {
        "id": "aVC24HorVTDL",
        "colab_type": "code",
        "colab": {}
      },
      "source": [
        "def number_encode_features(array):\n",
        "    result = array\n",
        "    r = array\n",
        "    encoders = {}\n",
        "    encoders = preprocessing.LabelEncoder()\n",
        "    r = encoders.fit_transform(result.astype(str))\n",
        "    return r, encoders"
      ],
      "execution_count": 0,
      "outputs": []
    },
    {
      "cell_type": "code",
      "metadata": {
        "id": "JhNlentMVjlx",
        "colab_type": "code",
        "colab": {}
      },
      "source": [
        "encoded_genre1, _ = number_encode_features(cleaned[0])"
      ],
      "execution_count": 0,
      "outputs": []
    },
    {
      "cell_type": "code",
      "metadata": {
        "id": "AjSf2zL5VlRi",
        "colab_type": "code",
        "colab": {}
      },
      "source": [
        "df_merged[\"genres_film\"] = encoded_genre1"
      ],
      "execution_count": 0,
      "outputs": []
    },
    {
      "cell_type": "code",
      "metadata": {
        "id": "bQ0Wch4XVm5Z",
        "colab_type": "code",
        "outputId": "d4bb3edc-86c7-43df-8365-993a2a3d9c3d",
        "colab": {
          "base_uri": "https://localhost:8080/",
          "height": 204
        }
      },
      "source": [
        "df_merged.head()"
      ],
      "execution_count": 0,
      "outputs": [
        {
          "output_type": "execute_result",
          "data": {
            "text/html": [
              "<div>\n",
              "<style scoped>\n",
              "    .dataframe tbody tr th:only-of-type {\n",
              "        vertical-align: middle;\n",
              "    }\n",
              "\n",
              "    .dataframe tbody tr th {\n",
              "        vertical-align: top;\n",
              "    }\n",
              "\n",
              "    .dataframe thead th {\n",
              "        text-align: right;\n",
              "    }\n",
              "</style>\n",
              "<table border=\"1\" class=\"dataframe\">\n",
              "  <thead>\n",
              "    <tr style=\"text-align: right;\">\n",
              "      <th></th>\n",
              "      <th>gender_actor1</th>\n",
              "      <th>gender_actor2</th>\n",
              "      <th>gender_actor3</th>\n",
              "      <th>gender_director1</th>\n",
              "      <th>averageRating</th>\n",
              "      <th>numVotes</th>\n",
              "      <th>genres_film</th>\n",
              "    </tr>\n",
              "  </thead>\n",
              "  <tbody>\n",
              "    <tr>\n",
              "      <th>0</th>\n",
              "      <td>2</td>\n",
              "      <td>2</td>\n",
              "      <td>1.0</td>\n",
              "      <td>2</td>\n",
              "      <td>5.4</td>\n",
              "      <td>16.0</td>\n",
              "      <td>7</td>\n",
              "    </tr>\n",
              "    <tr>\n",
              "      <th>1</th>\n",
              "      <td>2</td>\n",
              "      <td>1</td>\n",
              "      <td>1.0</td>\n",
              "      <td>2</td>\n",
              "      <td>5.4</td>\n",
              "      <td>80.0</td>\n",
              "      <td>5</td>\n",
              "    </tr>\n",
              "    <tr>\n",
              "      <th>2</th>\n",
              "      <td>2</td>\n",
              "      <td>2</td>\n",
              "      <td>1.0</td>\n",
              "      <td>2</td>\n",
              "      <td>5.6</td>\n",
              "      <td>12.0</td>\n",
              "      <td>4</td>\n",
              "    </tr>\n",
              "    <tr>\n",
              "      <th>3</th>\n",
              "      <td>2</td>\n",
              "      <td>2</td>\n",
              "      <td>1.0</td>\n",
              "      <td>2</td>\n",
              "      <td>5.8</td>\n",
              "      <td>12.0</td>\n",
              "      <td>7</td>\n",
              "    </tr>\n",
              "    <tr>\n",
              "      <th>6</th>\n",
              "      <td>2</td>\n",
              "      <td>2</td>\n",
              "      <td>1.0</td>\n",
              "      <td>2</td>\n",
              "      <td>5.1</td>\n",
              "      <td>15.0</td>\n",
              "      <td>0</td>\n",
              "    </tr>\n",
              "  </tbody>\n",
              "</table>\n",
              "</div>"
            ],
            "text/plain": [
              "   gender_actor1  gender_actor2  ...  numVotes  genres_film\n",
              "0              2              2  ...      16.0            7\n",
              "1              2              1  ...      80.0            5\n",
              "2              2              2  ...      12.0            4\n",
              "3              2              2  ...      12.0            7\n",
              "6              2              2  ...      15.0            0\n",
              "\n",
              "[5 rows x 7 columns]"
            ]
          },
          "metadata": {
            "tags": []
          },
          "execution_count": 104
        }
      ]
    },
    {
      "cell_type": "markdown",
      "metadata": {
        "id": "4-PFrOtsV8A-",
        "colab_type": "text"
      },
      "source": [
        "Listamos as features excluindo a target, que é o gênero do diretor."
      ]
    },
    {
      "cell_type": "code",
      "metadata": {
        "id": "rXQQuSCkVnVl",
        "colab_type": "code",
        "colab": {}
      },
      "source": [
        "features = list(df_merged.columns)\n",
        "features.remove(TARGET)"
      ],
      "execution_count": 0,
      "outputs": []
    },
    {
      "cell_type": "markdown",
      "metadata": {
        "id": "MMmkAA3iWD8A",
        "colab_type": "text"
      },
      "source": [
        "z-normalizamos o dado"
      ]
    },
    {
      "cell_type": "code",
      "metadata": {
        "id": "pB6A4VdDWAQi",
        "colab_type": "code",
        "colab": {}
      },
      "source": [
        "df_merged[features] = df_merged[features] - df_merged[features].mean()\n",
        "df_merged[features] = df_merged[features]/df_merged[features].std()"
      ],
      "execution_count": 0,
      "outputs": []
    },
    {
      "cell_type": "markdown",
      "metadata": {
        "id": "TR9SCI4fWIPF",
        "colab_type": "text"
      },
      "source": [
        "Separamos o dado em treino, validação e teste."
      ]
    },
    {
      "cell_type": "code",
      "metadata": {
        "id": "Kymt3tK5WDY6",
        "colab_type": "code",
        "colab": {}
      },
      "source": [
        "X = df_merged[features].values\n",
        "y = df_merged[TARGET].values\n",
        "X_train, X_test, y_train, y_test = train_test_split(X, y, test_size=0.33, random_state=42)\n",
        "\n",
        "kf = KFold(n_splits = K_Folds, random_state = 1, shuffle = True)"
      ],
      "execution_count": 0,
      "outputs": []
    },
    {
      "cell_type": "markdown",
      "metadata": {
        "id": "oxjZxiFl3PGv",
        "colab_type": "text"
      },
      "source": [
        "A função abaixo será usada para plotar a curva de acurácia no treino e na validação."
      ]
    },
    {
      "cell_type": "code",
      "metadata": {
        "id": "xdeDHsbrWPQo",
        "colab_type": "code",
        "colab": {}
      },
      "source": [
        "def plot_curva(x, y1, y2, x_label, y_label):\n",
        "    plt.figure(figsize=(8, 5))\n",
        "    plt.plot(x, y1, label= \"Training\")\n",
        "    plt.plot(x, y2, label= \"Validation\")\n",
        "    plt.xlabel(x_label)\n",
        "    plt.ylabel(y_label)\n",
        "    plt.legend()\n",
        "    plt.show()"
      ],
      "execution_count": 0,
      "outputs": []
    },
    {
      "cell_type": "markdown",
      "metadata": {
        "id": "YaPBF-R53d1R",
        "colab_type": "text"
      },
      "source": [
        "Escolhemos utilizar o random forest pelo fato de estarmos trabalhando com dados que são muito facilmente separáveis por uma decision tree, pois alguns dos atributos possuem apenas resposta 1 ou 2, para representar os gêneros. Além disso, buscamos um método que não os levaria a decorar os dados, por exemplo, decorar que um determinado tipo de gênero de filme é dirigido somente por homens na nossa tabela. Para que isso não ocorresse seria importante a escolha de um modelo que utilizasse uma abordagem de bagging ou boosting. Portanto, escolhemos o Random Forest pois este modelo ataca a variância dos dados utilizando várias decision trees, em que nenhuma delas nunca verá o dado por completo e nem mesmo todas as features, assim produzimos árvores que não se correlacionam e não é possível que o modelo decore os dados, ou seja, não ocorre overfitting.\n",
        "\n",
        "\n",
        "Pelo fato de termos classes desbalanceadas, ou seja, temos muito mais homens diretores do que mulheres, utilizamos o parâmetro *class_weight=\"balanced\"*."
      ]
    },
    {
      "cell_type": "code",
      "metadata": {
        "id": "H2zSatsKWn_5",
        "colab_type": "code",
        "colab": {}
      },
      "source": [
        "def random_forest(N):\n",
        "    train_score = []\n",
        "    val_score = []\n",
        "    \n",
        "    for train, val in kf.split(X, y):\n",
        "           \n",
        "        classifier = ensemble.RandomForestClassifier(n_estimators=N, class_weight=\"balanced\")\n",
        "        classifier = classifier.fit(X[train], y[train])\n",
        "\n",
        "        train_score.append(classifier.score(X[train], y[train]))\n",
        "        val_score.append(classifier.score(X[val], y[val]))\n",
        "\n",
        "\n",
        "    trainAcc = np.mean(train_score)\n",
        "    valAcc = np.mean(val_score)\n",
        "    \n",
        "    return trainAcc, valAcc"
      ],
      "execution_count": 0,
      "outputs": []
    },
    {
      "cell_type": "markdown",
      "metadata": {
        "id": "iN6jGsid5s0h",
        "colab_type": "text"
      },
      "source": [
        "Como podemos ver abaixo a acurácia de teste sempre cresce, mas a de validação não cai, ou seja, não ocorre overfitting. \n",
        "\n",
        "O gráfico foi plotado com a intenção de encontrar o melhor número de estimadores para fazer a predição. Nesse caso, o melhor número é 17."
      ]
    },
    {
      "cell_type": "code",
      "metadata": {
        "id": "R_Puc5jQWp-w",
        "colab_type": "code",
        "outputId": "0da715a2-6f1c-40c2-c429-fdc224222012",
        "colab": {
          "base_uri": "https://localhost:8080/",
          "height": 339
        }
      },
      "source": [
        "acc_modelTrain = []\n",
        "acc_modelVal = []\n",
        "max_depth = list(range(1,31,2)) #Valores usados para variar a quantidade de arvores \n",
        "for i in max_depth:\n",
        "    trainAcc, valAcc = random_forest(i)    \n",
        "    acc_modelTrain.append(trainAcc)\n",
        "    acc_modelVal.append(valAcc)\n",
        "plot_curva(max_depth, acc_modelTrain, acc_modelVal, \"max_depth\", \"accuracy\")"
      ],
      "execution_count": 0,
      "outputs": [
        {
          "output_type": "display_data",
          "data": {
            "image/png": "[encoded data removed]",
            "text/plain": [
              "<Figure size 576x360 with 1 Axes>"
            ]
          },
          "metadata": {
            "tags": []
          }
        }
      ]
    },
    {
      "cell_type": "markdown",
      "metadata": {
        "id": "Ju21sd2r6ZdZ",
        "colab_type": "text"
      },
      "source": [
        "Como há um certo desbalanceamento de classes, devido a falta de representatividade feminina na direção de filmes, a previsão não ficou boa para a classe 1 (que representa as mulheres), abaixo podemos observar que todas as métricas ficaram bem baixas. Em contra partida, a previsão foi ótima para a classe 2, devido a alta quantidade de exemplos dessa classe no nosso dataset, foi muito mais fácil generalizar o dado e prever quais atributos importam quando o diretor é um homem."
      ]
    },
    {
      "cell_type": "code",
      "metadata": {
        "id": "24Z6-D-Kjhly",
        "colab_type": "code",
        "outputId": "a10d14f6-bb98-4b35-87bc-fca6e061c93f",
        "colab": {
          "base_uri": "https://localhost:8080/",
          "height": 204
        }
      },
      "source": [
        "model = ensemble.RandomForestClassifier(n_estimators=17, class_weight=\"balanced\")\n",
        "model.fit(X_train, y_train)\n",
        "y_pred = model.predict(X_test)\n",
        "\n",
        "acc_test = accuracy_score(y_test, y_pred)\n",
        "print(\"Test accuracy: {}\\n\".format(acc_test))\n",
        "\n",
        "print(classification_report(y_test, y_pred))"
      ],
      "execution_count": 0,
      "outputs": [
        {
          "output_type": "stream",
          "text": [
            "Test accuracy: 0.9413528199362938\n",
            "\n",
            "              precision    recall  f1-score   support\n",
            "\n",
            "           1       0.19      0.04      0.07       274\n",
            "           2       0.95      0.99      0.97      5063\n",
            "\n",
            "    accuracy                           0.94      5337\n",
            "   macro avg       0.57      0.52      0.52      5337\n",
            "weighted avg       0.91      0.94      0.92      5337\n",
            "\n"
          ],
          "name": "stdout"
        }
      ]
    },
    {
      "cell_type": "code",
      "metadata": {
        "id": "IgIB3uKm3Mey",
        "colab_type": "code",
        "colab": {}
      },
      "source": [
        "# Matriz de Confusao\n",
        "classes = [\"1\", \"2\"]\n",
        "def matriz_confusao(y_test, y_pred):\n",
        "  cm = metrics.confusion_matrix(y_test, y_pred)\n",
        "\n",
        "  fig, ax = plt.subplots(figsize=(7, 7))\n",
        "  im = ax.imshow(cm, interpolation='nearest', cmap=plt.cm.Blues)\n",
        "  ax.figure.colorbar(im, ax=ax)\n",
        "  ax.set(xticks=np.arange(cm.shape[1]),\n",
        "         yticks=np.arange(cm.shape[0]),\n",
        "         xticklabels=classes, yticklabels=classes,\n",
        "         title=\"Matriz de Confusão\",\n",
        "         ylabel=\"Real\",\n",
        "         xlabel=\"Predito\")\n",
        "\n",
        "  plt.setp(ax.get_xticklabels(), rotation=45, ha=\"right\",\n",
        "           rotation_mode=\"anchor\")\n",
        "\n",
        "  for i in range(cm.shape[0]):\n",
        "      for j in range(cm.shape[1]):\n",
        "          ax.text(j, i, format(cm[i, j], \"d\"),\n",
        "                  ha=\"center\", va=\"center\",\n",
        "                  color=\"white\" if cm[i, j] > cm.max()/2. else \"black\")\n",
        "  fig.tight_layout()\n",
        "  plt.show()"
      ],
      "execution_count": 0,
      "outputs": []
    },
    {
      "cell_type": "markdown",
      "metadata": {
        "id": "q-Z-tXyB7PEc",
        "colab_type": "text"
      },
      "source": [
        "Na matriz de confusão abaixo temos uma representação visual das métricas mostradas acima. Podemos ver que a predição de verdadeiros positivos foi muito baixa, enquanto que a de verdadeiros negativos foi altíssima. Novamentes, isso pode ser explicado pelo desbalanceamento no dataset, visto que temos poucas diretoras. "
      ]
    },
    {
      "cell_type": "code",
      "metadata": {
        "id": "BEcJGcBh3Y0l",
        "colab_type": "code",
        "outputId": "2496fd85-368d-4822-a415-f965633aedea",
        "colab": {
          "base_uri": "https://localhost:8080/",
          "height": 513
        }
      },
      "source": [
        "matriz_confusao(y_test, y_pred)"
      ],
      "execution_count": 0,
      "outputs": [
        {
          "output_type": "display_data",
          "data": {
            "image/png": "[encoded data removed]",
            "text/plain": [
              "<Figure size 504x504 with 2 Axes>"
            ]
          },
          "metadata": {
            "tags": []
          }
        }
      ]
    },
    {
      "cell_type": "markdown",
      "metadata": {
        "id": "K6aQd8pH7uCV",
        "colab_type": "text"
      },
      "source": [
        "A classificação teve uma acurácia alta devido principalmente aos acertos de verdadeiros negativos. Podemos dizer que sim é possível prever o gênero do diretor dado os atributos que tínhamos em mãos, e que a representatividade do cast principal pode sim ser influênciada pelo gênero do diretor, isso também foi provado pelo teste de hipóteses. Porém, devido a falta de representatividade dentro da direção, não possuímos dados balanceados para essa análise, e podemos dizer que há um certo tipo de viés no dado, que é um viés natural que representa a desigualdade de gênero nessa área. Como há poucas diretoras, não foi possível generalizar tão bem o dado e encontrar padrões o suficiente para prever a classe 1 tão bem quanto prevemos a classe 2."
      ]
    },
    {
      "cell_type": "markdown",
      "metadata": {
        "id": "y93K61aw9lU0",
        "colab_type": "text"
      },
      "source": [
        "# Conclusão\n",
        " \n",
        "No inicio do trabalho logo após a análise exploratória dos dados, na qual podemos ver como as tabelas se correlacionam, nós comprovamos que há desigualdade de gênero no cast principal dos filmes, utilizando a hipótese nula \"a representação feminina no cast principal dos filmes de Hollywood segue a distribuição populacional norte-americana\" e falsificando-a. \n",
        "\n",
        "Depois disso buscamos evidenciar como se comporta a representatividade no filme com a mudança do gênero do diretor, e mostramos que filmes que foram digiridos por mulheres tem uma representação feminina maior no cast principal, assim concluímos que o gênero do diretor influência na representatividade do filme. Dado isso, queríamos analisar o contrário e ver se a representatividade dos filmes influência no gênero do diretor. Então decidimos tentar classificar o gênero do diretor de um filme dado o restante de atributos que tínhamos, com isso conseguimos perceber que é possível fazer a classificação, porém os dados que temos não foram suficientes pois estão desbalanceados. Esse desbalanceamento é na verdade só mais um indicativo da baixa representatividade feminina, já que temos as informações dos filmes mais famosos e uma proporção de homens muito superior a mulheres na direção. Devido a isso, conseguimos prever bem quando o diretor é homem, porém para mulheres os resultados não foram tão bons quanto o esperado.\n",
        "\n",
        "Além disso, nós também tentamos evidenciar que para Hollywood é muito mais aceitável termos homens mais velhos nas telas do que mulheres mais velhas, sendo assim os casais são formados na maioria das vezes por um homem mais velho e uma mulher nova. Para mostrar isso usamos uma regressão linear e conseguimos predizer a idade da mulher dada a idade do seu par romântico, e além disso conseguimos ver que as atrizes são em média 10 anos mais novas que seus pares românticos.\n",
        " \n",
        " "
      ]
    }
  ]
}